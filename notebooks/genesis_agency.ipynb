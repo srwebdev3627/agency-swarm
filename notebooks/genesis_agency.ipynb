{
 "cells": [
  {
   "cell_type": "code",
   "execution_count": 3,
   "id": "initial_id",
   "metadata": {
    "collapsed": true,
    "ExecuteTime": {
     "end_time": "2023-12-29T05:57:03.035355Z",
     "start_time": "2023-12-29T05:57:03.009891Z"
    }
   },
   "outputs": [],
   "source": [
    "import sys\n",
    "sys.path.append('../agency_swarm') \n",
    "\n",
    "%load_ext autoreload\n",
    "\n",
    "%autoreload 2\n",
    "import agency_swarm\n",
    "from agency_swarm import Agency, Agent"
   ]
  },
  {
   "cell_type": "code",
   "outputs": [],
   "source": [
    "from agency_swarm.agency.genesis import GenesisAgency"
   ],
   "metadata": {
    "collapsed": false,
    "ExecuteTime": {
     "end_time": "2023-12-29T05:57:03.039316Z",
     "start_time": "2023-12-29T05:57:03.027104Z"
    }
   },
   "id": "76092f19655acaa8",
   "execution_count": 4
  },
  {
   "cell_type": "code",
   "outputs": [
    {
     "name": "stdout",
     "output_type": "stream",
     "text": [
      "Updating assistant... GenesisCEO\n"
     ]
    },
    {
     "ename": "Exception",
     "evalue": "Tool must not be initialized.",
     "output_type": "error",
     "traceback": [
      "\u001B[0;31m---------------------------------------------------------------------------\u001B[0m",
      "\u001B[0;31mException\u001B[0m                                 Traceback (most recent call last)",
      "Cell \u001B[0;32mIn[5], line 1\u001B[0m\n\u001B[0;32m----> 1\u001B[0m genesis_agency \u001B[38;5;241m=\u001B[39m \u001B[43mGenesisAgency\u001B[49m\u001B[43m(\u001B[49m\u001B[43m)\u001B[49m\n",
      "File \u001B[0;32m~/Projects/agency swarm/agency-swarm/agency_swarm/agency/genesis/GenesisAgency.py:31\u001B[0m, in \u001B[0;36mGenesisAgency.__init__\u001B[0;34m(self, **kwargs)\u001B[0m\n\u001B[1;32m     27\u001B[0m     readme_path \u001B[38;5;241m=\u001B[39m os\u001B[38;5;241m.\u001B[39mpath\u001B[38;5;241m.\u001B[39mabspath(readme_path)\n\u001B[1;32m     29\u001B[0m     kwargs[\u001B[38;5;124m'\u001B[39m\u001B[38;5;124mshared_files\u001B[39m\u001B[38;5;124m'\u001B[39m] \u001B[38;5;241m=\u001B[39m [readme_path]\n\u001B[0;32m---> 31\u001B[0m \u001B[38;5;28;43msuper\u001B[39;49m\u001B[43m(\u001B[49m\u001B[43m)\u001B[49m\u001B[38;5;241;43m.\u001B[39;49m\u001B[38;5;21;43m__init__\u001B[39;49m\u001B[43m(\u001B[49m\u001B[38;5;241;43m*\u001B[39;49m\u001B[38;5;241;43m*\u001B[39;49m\u001B[43mkwargs\u001B[49m\u001B[43m)\u001B[49m\n",
      "File \u001B[0;32m~/Projects/agency swarm/agency-swarm/agency_swarm/agency/agency.py:45\u001B[0m, in \u001B[0;36mAgency.__init__\u001B[0;34m(self, agency_chart, shared_instructions, shared_files)\u001B[0m\n\u001B[1;32m     43\u001B[0m \u001B[38;5;28mself\u001B[39m\u001B[38;5;241m.\u001B[39m_parse_agency_chart(agency_chart)\n\u001B[1;32m     44\u001B[0m \u001B[38;5;28mself\u001B[39m\u001B[38;5;241m.\u001B[39m_create_send_message_tools()\n\u001B[0;32m---> 45\u001B[0m \u001B[38;5;28;43mself\u001B[39;49m\u001B[38;5;241;43m.\u001B[39;49m\u001B[43m_init_agents\u001B[49m\u001B[43m(\u001B[49m\u001B[43m)\u001B[49m\n\u001B[1;32m     46\u001B[0m \u001B[38;5;28mself\u001B[39m\u001B[38;5;241m.\u001B[39m_init_threads()\n\u001B[1;32m     48\u001B[0m \u001B[38;5;28mself\u001B[39m\u001B[38;5;241m.\u001B[39muser \u001B[38;5;241m=\u001B[39m User()\n",
      "File \u001B[0;32m~/Projects/agency swarm/agency-swarm/agency_swarm/agency/agency.py:392\u001B[0m, in \u001B[0;36mAgency._init_agents\u001B[0;34m(self)\u001B[0m\n\u001B[1;32m    389\u001B[0m     \u001B[38;5;28;01melif\u001B[39;00m \u001B[38;5;28misinstance\u001B[39m(agent\u001B[38;5;241m.\u001B[39mfiles_folder, \u001B[38;5;28mlist\u001B[39m):\n\u001B[1;32m    390\u001B[0m         agent\u001B[38;5;241m.\u001B[39mfiles_folder \u001B[38;5;241m+\u001B[39m\u001B[38;5;241m=\u001B[39m \u001B[38;5;28mself\u001B[39m\u001B[38;5;241m.\u001B[39mshared_files\n\u001B[0;32m--> 392\u001B[0m \u001B[43magent\u001B[49m\u001B[38;5;241;43m.\u001B[39;49m\u001B[43minit_oai\u001B[49m\u001B[43m(\u001B[49m\u001B[43m)\u001B[49m\n",
      "File \u001B[0;32m~/Projects/agency swarm/agency-swarm/agency_swarm/agents/agent.py:100\u001B[0m, in \u001B[0;36mAgent.init_oai\u001B[0;34m(self)\u001B[0m\n\u001B[1;32m     98\u001B[0m \u001B[38;5;28mself\u001B[39m\u001B[38;5;241m.\u001B[39mid \u001B[38;5;241m=\u001B[39m assistant_settings[\u001B[38;5;124m'\u001B[39m\u001B[38;5;124mid\u001B[39m\u001B[38;5;124m'\u001B[39m]\n\u001B[1;32m     99\u001B[0m \u001B[38;5;66;03m# update assistant if parameters are different\u001B[39;00m\n\u001B[0;32m--> 100\u001B[0m \u001B[38;5;28;01mif\u001B[39;00m \u001B[38;5;129;01mnot\u001B[39;00m \u001B[38;5;28;43mself\u001B[39;49m\u001B[38;5;241;43m.\u001B[39;49m\u001B[43m_check_parameters\u001B[49m\u001B[43m(\u001B[49m\u001B[38;5;28;43mself\u001B[39;49m\u001B[38;5;241;43m.\u001B[39;49m\u001B[43massistant\u001B[49m\u001B[38;5;241;43m.\u001B[39;49m\u001B[43mmodel_dump\u001B[49m\u001B[43m(\u001B[49m\u001B[43m)\u001B[49m\u001B[43m)\u001B[49m:\n\u001B[1;32m    101\u001B[0m     \u001B[38;5;28mprint\u001B[39m(\u001B[38;5;124m\"\u001B[39m\u001B[38;5;124mUpdating assistant... \u001B[39m\u001B[38;5;124m\"\u001B[39m \u001B[38;5;241m+\u001B[39m \u001B[38;5;28mself\u001B[39m\u001B[38;5;241m.\u001B[39mname)\n\u001B[1;32m    102\u001B[0m     \u001B[38;5;28mself\u001B[39m\u001B[38;5;241m.\u001B[39m_update_assistant()\n",
      "File \u001B[0;32m~/Projects/agency swarm/agency-swarm/agency_swarm/agents/agent.py:168\u001B[0m, in \u001B[0;36mAgent._check_parameters\u001B[0;34m(self, assistant_settings)\u001B[0m\n\u001B[1;32m    166\u001B[0m \u001B[38;5;28;01mif\u001B[39;00m \u001B[38;5;28mself\u001B[39m\u001B[38;5;241m.\u001B[39minstructions \u001B[38;5;241m!=\u001B[39m assistant_settings[\u001B[38;5;124m'\u001B[39m\u001B[38;5;124minstructions\u001B[39m\u001B[38;5;124m'\u001B[39m]:\n\u001B[1;32m    167\u001B[0m     \u001B[38;5;28;01mreturn\u001B[39;00m \u001B[38;5;28;01mFalse\u001B[39;00m\n\u001B[0;32m--> 168\u001B[0m tools_diff \u001B[38;5;241m=\u001B[39m DeepDiff(\u001B[38;5;28;43mself\u001B[39;49m\u001B[38;5;241;43m.\u001B[39;49m\u001B[43mget_oai_tools\u001B[49m\u001B[43m(\u001B[49m\u001B[43m)\u001B[49m, assistant_settings[\u001B[38;5;124m'\u001B[39m\u001B[38;5;124mtools\u001B[39m\u001B[38;5;124m'\u001B[39m], ignore_order\u001B[38;5;241m=\u001B[39m\u001B[38;5;28;01mTrue\u001B[39;00m)\n\u001B[1;32m    169\u001B[0m \u001B[38;5;28;01mif\u001B[39;00m tools_diff \u001B[38;5;241m!=\u001B[39m {}:\n\u001B[1;32m    170\u001B[0m     \u001B[38;5;28;01mreturn\u001B[39;00m \u001B[38;5;28;01mFalse\u001B[39;00m\n",
      "File \u001B[0;32m~/Projects/agency swarm/agency-swarm/agency_swarm/agents/agent.py:325\u001B[0m, in \u001B[0;36mAgent.get_oai_tools\u001B[0;34m(self)\u001B[0m\n\u001B[1;32m    323\u001B[0m \u001B[38;5;28;01mfor\u001B[39;00m tool \u001B[38;5;129;01min\u001B[39;00m \u001B[38;5;28mself\u001B[39m\u001B[38;5;241m.\u001B[39mtools:\n\u001B[1;32m    324\u001B[0m     \u001B[38;5;28;01mif\u001B[39;00m \u001B[38;5;129;01mnot\u001B[39;00m \u001B[38;5;28misinstance\u001B[39m(tool, \u001B[38;5;28mtype\u001B[39m):\n\u001B[0;32m--> 325\u001B[0m         \u001B[38;5;28;01mraise\u001B[39;00m \u001B[38;5;167;01mException\u001B[39;00m(\u001B[38;5;124m\"\u001B[39m\u001B[38;5;124mTool must not be initialized.\u001B[39m\u001B[38;5;124m\"\u001B[39m)\n\u001B[1;32m    327\u001B[0m     \u001B[38;5;28;01mif\u001B[39;00m \u001B[38;5;28missubclass\u001B[39m(tool, Retrieval):\n\u001B[1;32m    328\u001B[0m         tools\u001B[38;5;241m.\u001B[39mappend(tool()\u001B[38;5;241m.\u001B[39mmodel_dump())\n",
      "\u001B[0;31mException\u001B[0m: Tool must not be initialized."
     ]
    }
   ],
   "source": [
    "genesis_agency = GenesisAgency()"
   ],
   "metadata": {
    "collapsed": false,
    "ExecuteTime": {
     "end_time": "2023-12-29T05:57:04.047254Z",
     "start_time": "2023-12-29T05:57:03.039549Z"
    }
   },
   "id": "55fd6600d156e4c8",
   "execution_count": 5
  },
  {
   "cell_type": "code",
   "outputs": [],
   "source": [
    "genesis_agency.demo_gradio(height=900)"
   ],
   "metadata": {
    "collapsed": false,
    "ExecuteTime": {
     "end_time": "2023-12-29T05:57:04.047461Z",
     "start_time": "2023-12-29T05:57:04.047403Z"
    }
   },
   "id": "af34185ee51ae32",
   "execution_count": null
  },
  {
   "cell_type": "code",
   "outputs": [],
   "source": [
    "from agency_swarm.agents.genesis import AgentCreator, ToolCreator\n",
    "from agency_swarm import Agency\n",
    "from agency_swarm.agency.genesis import GenesisAgency"
   ],
   "metadata": {
    "collapsed": false,
    "ExecuteTime": {
     "end_time": "2023-12-29T05:58:39.239386Z",
     "start_time": "2023-12-29T05:58:38.847827Z"
    }
   },
   "id": "6cafc0d9a51ed4c9",
   "execution_count": 1
  },
  {
   "cell_type": "code",
   "outputs": [
    {
     "ename": "Exception",
     "evalue": "Tool must not be initialized.",
     "output_type": "error",
     "traceback": [
      "\u001B[0;31m---------------------------------------------------------------------------\u001B[0m",
      "\u001B[0;31mException\u001B[0m                                 Traceback (most recent call last)",
      "Cell \u001B[0;32mIn[2], line 4\u001B[0m\n\u001B[1;32m      1\u001B[0m agent_creator \u001B[38;5;241m=\u001B[39m AgentCreator()\n\u001B[1;32m      2\u001B[0m tool_creator \u001B[38;5;241m=\u001B[39m ToolCreator()\n\u001B[0;32m----> 4\u001B[0m test_agency \u001B[38;5;241m=\u001B[39m \u001B[43mGenesisAgency\u001B[49m\u001B[43m(\u001B[49m\u001B[43magency_chart\u001B[49m\u001B[38;5;241;43m=\u001B[39;49m\u001B[43m[\u001B[49m\n\u001B[1;32m      5\u001B[0m \u001B[43m    \u001B[49m\u001B[43magent_creator\u001B[49m\u001B[43m,\u001B[49m\n\u001B[1;32m      6\u001B[0m \u001B[43m    \u001B[49m\u001B[43m[\u001B[49m\u001B[43magent_creator\u001B[49m\u001B[43m,\u001B[49m\u001B[43m \u001B[49m\u001B[43mtool_creator\u001B[49m\u001B[43m]\u001B[49m\n\u001B[1;32m      7\u001B[0m \u001B[43m]\u001B[49m\u001B[43m)\u001B[49m\n",
      "File \u001B[0;32m~/Projects/agency swarm/agency-swarm/agency_swarm/agency/genesis/GenesisAgency.py:31\u001B[0m, in \u001B[0;36mGenesisAgency.__init__\u001B[0;34m(self, **kwargs)\u001B[0m\n\u001B[1;32m     27\u001B[0m     readme_path \u001B[38;5;241m=\u001B[39m os\u001B[38;5;241m.\u001B[39mpath\u001B[38;5;241m.\u001B[39mabspath(readme_path)\n\u001B[1;32m     29\u001B[0m     kwargs[\u001B[38;5;124m'\u001B[39m\u001B[38;5;124mshared_files\u001B[39m\u001B[38;5;124m'\u001B[39m] \u001B[38;5;241m=\u001B[39m [readme_path]\n\u001B[0;32m---> 31\u001B[0m \u001B[38;5;28;43msuper\u001B[39;49m\u001B[43m(\u001B[49m\u001B[43m)\u001B[49m\u001B[38;5;241;43m.\u001B[39;49m\u001B[38;5;21;43m__init__\u001B[39;49m\u001B[43m(\u001B[49m\u001B[38;5;241;43m*\u001B[39;49m\u001B[38;5;241;43m*\u001B[39;49m\u001B[43mkwargs\u001B[49m\u001B[43m)\u001B[49m\n",
      "File \u001B[0;32m~/Projects/agency swarm/agency-swarm/agency_swarm/agency/agency.py:45\u001B[0m, in \u001B[0;36mAgency.__init__\u001B[0;34m(self, agency_chart, shared_instructions, shared_files)\u001B[0m\n\u001B[1;32m     43\u001B[0m \u001B[38;5;28mself\u001B[39m\u001B[38;5;241m.\u001B[39m_parse_agency_chart(agency_chart)\n\u001B[1;32m     44\u001B[0m \u001B[38;5;28mself\u001B[39m\u001B[38;5;241m.\u001B[39m_create_send_message_tools()\n\u001B[0;32m---> 45\u001B[0m \u001B[38;5;28;43mself\u001B[39;49m\u001B[38;5;241;43m.\u001B[39;49m\u001B[43m_init_agents\u001B[49m\u001B[43m(\u001B[49m\u001B[43m)\u001B[49m\n\u001B[1;32m     46\u001B[0m \u001B[38;5;28mself\u001B[39m\u001B[38;5;241m.\u001B[39m_init_threads()\n\u001B[1;32m     48\u001B[0m \u001B[38;5;28mself\u001B[39m\u001B[38;5;241m.\u001B[39muser \u001B[38;5;241m=\u001B[39m User()\n",
      "File \u001B[0;32m~/Projects/agency swarm/agency-swarm/agency_swarm/agency/agency.py:392\u001B[0m, in \u001B[0;36mAgency._init_agents\u001B[0;34m(self)\u001B[0m\n\u001B[1;32m    389\u001B[0m     \u001B[38;5;28;01melif\u001B[39;00m \u001B[38;5;28misinstance\u001B[39m(agent\u001B[38;5;241m.\u001B[39mfiles_folder, \u001B[38;5;28mlist\u001B[39m):\n\u001B[1;32m    390\u001B[0m         agent\u001B[38;5;241m.\u001B[39mfiles_folder \u001B[38;5;241m+\u001B[39m\u001B[38;5;241m=\u001B[39m \u001B[38;5;28mself\u001B[39m\u001B[38;5;241m.\u001B[39mshared_files\n\u001B[0;32m--> 392\u001B[0m \u001B[43magent\u001B[49m\u001B[38;5;241;43m.\u001B[39;49m\u001B[43minit_oai\u001B[49m\u001B[43m(\u001B[49m\u001B[43m)\u001B[49m\n",
      "File \u001B[0;32m~/Projects/agency swarm/agency-swarm/agency_swarm/agents/agent.py:100\u001B[0m, in \u001B[0;36mAgent.init_oai\u001B[0;34m(self)\u001B[0m\n\u001B[1;32m     98\u001B[0m \u001B[38;5;28mself\u001B[39m\u001B[38;5;241m.\u001B[39mid \u001B[38;5;241m=\u001B[39m assistant_settings[\u001B[38;5;124m'\u001B[39m\u001B[38;5;124mid\u001B[39m\u001B[38;5;124m'\u001B[39m]\n\u001B[1;32m     99\u001B[0m \u001B[38;5;66;03m# update assistant if parameters are different\u001B[39;00m\n\u001B[0;32m--> 100\u001B[0m \u001B[38;5;28;01mif\u001B[39;00m \u001B[38;5;129;01mnot\u001B[39;00m \u001B[38;5;28;43mself\u001B[39;49m\u001B[38;5;241;43m.\u001B[39;49m\u001B[43m_check_parameters\u001B[49m\u001B[43m(\u001B[49m\u001B[38;5;28;43mself\u001B[39;49m\u001B[38;5;241;43m.\u001B[39;49m\u001B[43massistant\u001B[49m\u001B[38;5;241;43m.\u001B[39;49m\u001B[43mmodel_dump\u001B[49m\u001B[43m(\u001B[49m\u001B[43m)\u001B[49m\u001B[43m)\u001B[49m:\n\u001B[1;32m    101\u001B[0m     \u001B[38;5;28mprint\u001B[39m(\u001B[38;5;124m\"\u001B[39m\u001B[38;5;124mUpdating assistant... \u001B[39m\u001B[38;5;124m\"\u001B[39m \u001B[38;5;241m+\u001B[39m \u001B[38;5;28mself\u001B[39m\u001B[38;5;241m.\u001B[39mname)\n\u001B[1;32m    102\u001B[0m     \u001B[38;5;28mself\u001B[39m\u001B[38;5;241m.\u001B[39m_update_assistant()\n",
      "File \u001B[0;32m~/Projects/agency swarm/agency-swarm/agency_swarm/agents/agent.py:168\u001B[0m, in \u001B[0;36mAgent._check_parameters\u001B[0;34m(self, assistant_settings)\u001B[0m\n\u001B[1;32m    166\u001B[0m \u001B[38;5;28;01mif\u001B[39;00m \u001B[38;5;28mself\u001B[39m\u001B[38;5;241m.\u001B[39minstructions \u001B[38;5;241m!=\u001B[39m assistant_settings[\u001B[38;5;124m'\u001B[39m\u001B[38;5;124minstructions\u001B[39m\u001B[38;5;124m'\u001B[39m]:\n\u001B[1;32m    167\u001B[0m     \u001B[38;5;28;01mreturn\u001B[39;00m \u001B[38;5;28;01mFalse\u001B[39;00m\n\u001B[0;32m--> 168\u001B[0m tools_diff \u001B[38;5;241m=\u001B[39m DeepDiff(\u001B[38;5;28;43mself\u001B[39;49m\u001B[38;5;241;43m.\u001B[39;49m\u001B[43mget_oai_tools\u001B[49m\u001B[43m(\u001B[49m\u001B[43m)\u001B[49m, assistant_settings[\u001B[38;5;124m'\u001B[39m\u001B[38;5;124mtools\u001B[39m\u001B[38;5;124m'\u001B[39m], ignore_order\u001B[38;5;241m=\u001B[39m\u001B[38;5;28;01mTrue\u001B[39;00m)\n\u001B[1;32m    169\u001B[0m \u001B[38;5;28;01mif\u001B[39;00m tools_diff \u001B[38;5;241m!=\u001B[39m {}:\n\u001B[1;32m    170\u001B[0m     \u001B[38;5;28;01mreturn\u001B[39;00m \u001B[38;5;28;01mFalse\u001B[39;00m\n",
      "File \u001B[0;32m~/Projects/agency swarm/agency-swarm/agency_swarm/agents/agent.py:325\u001B[0m, in \u001B[0;36mAgent.get_oai_tools\u001B[0;34m(self)\u001B[0m\n\u001B[1;32m    323\u001B[0m \u001B[38;5;28;01mfor\u001B[39;00m tool \u001B[38;5;129;01min\u001B[39;00m \u001B[38;5;28mself\u001B[39m\u001B[38;5;241m.\u001B[39mtools:\n\u001B[1;32m    324\u001B[0m     \u001B[38;5;28;01mif\u001B[39;00m \u001B[38;5;129;01mnot\u001B[39;00m \u001B[38;5;28misinstance\u001B[39m(tool, \u001B[38;5;28mtype\u001B[39m):\n\u001B[0;32m--> 325\u001B[0m         \u001B[38;5;28;01mraise\u001B[39;00m \u001B[38;5;167;01mException\u001B[39;00m(\u001B[38;5;124m\"\u001B[39m\u001B[38;5;124mTool must not be initialized.\u001B[39m\u001B[38;5;124m\"\u001B[39m)\n\u001B[1;32m    327\u001B[0m     \u001B[38;5;28;01mif\u001B[39;00m \u001B[38;5;28missubclass\u001B[39m(tool, Retrieval):\n\u001B[1;32m    328\u001B[0m         tools\u001B[38;5;241m.\u001B[39mappend(tool()\u001B[38;5;241m.\u001B[39mmodel_dump())\n",
      "\u001B[0;31mException\u001B[0m: Tool must not be initialized."
     ]
    }
   ],
   "source": [
    "agent_creator = AgentCreator()\n",
    "tool_creator = ToolCreator()\n",
    "\n",
    "test_agency = GenesisAgency(agency_chart=[\n",
    "    agent_creator,\n",
    "    [agent_creator, tool_creator]\n",
    "])"
   ],
   "metadata": {
    "collapsed": false,
    "ExecuteTime": {
     "end_time": "2023-12-29T05:58:40.037345Z",
     "start_time": "2023-12-29T05:58:39.232982Z"
    }
   },
   "id": "64b988e65898f6b3",
   "execution_count": 2
  },
  {
   "cell_type": "code",
   "outputs": [],
   "source": [
    "test_agency.demo_gradio(height=900)"
   ],
   "metadata": {
    "collapsed": false,
    "ExecuteTime": {
     "start_time": "2023-12-29T05:58:40.036650Z"
    }
   },
   "id": "c95ce4524b2b3ab4",
   "execution_count": null
  },
  {
   "cell_type": "code",
   "outputs": [],
   "source": [],
   "metadata": {
    "collapsed": false,
    "ExecuteTime": {
     "start_time": "2023-12-29T05:57:04.052508Z"
    }
   },
   "id": "524eb12410dcd7a8"
  }
 ],
 "metadata": {
  "kernelspec": {
   "display_name": "Python 3",
   "language": "python",
   "name": "python3"
  },
  "language_info": {
   "codemirror_mode": {
    "name": "ipython",
    "version": 3
   },
   "file_extension": ".py",
   "mimetype": "text/x-python",
   "name": "python",
   "nbconvert_exporter": "python",
   "pygments_lexer": "ipython3",
   "version": "3.10.13"
  }
 },
 "nbformat": 4,
 "nbformat_minor": 5
}
