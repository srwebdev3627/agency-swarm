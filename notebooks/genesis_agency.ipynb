{
 "cells": [
  {
   "cell_type": "code",
   "outputs": [
    {
     "name": "stdout",
     "output_type": "stream",
     "text": [
      "Requirement already satisfied: agency-swarm in /Users/vrsen/Projects/agency swarm/agency-swarm (0.1.0)\r\n",
      "Requirement already satisfied: selenium in /Users/vrsen/Projects/agency swarm/agency-swarm/env/lib/python3.10/site-packages (4.16.0)\r\n",
      "Requirement already satisfied: webdriver-manager in /Users/vrsen/Projects/agency swarm/agency-swarm/env/lib/python3.10/site-packages (4.0.1)\r\n",
      "Requirement already satisfied: selenium_stealth in /Users/vrsen/Projects/agency swarm/agency-swarm/env/lib/python3.10/site-packages (1.0.6)\r\n",
      "Requirement already satisfied: gradio in /Users/vrsen/Projects/agency swarm/agency-swarm/env/lib/python3.10/site-packages (4.9.1)\r\n",
      "Requirement already satisfied: openai==1.5.0 in /Users/vrsen/Projects/agency swarm/agency-swarm/env/lib/python3.10/site-packages (from agency-swarm) (1.5.0)\r\n",
      "Requirement already satisfied: instructor==0.4.5 in /Users/vrsen/Projects/agency swarm/agency-swarm/env/lib/python3.10/site-packages (from agency-swarm) (0.4.5)\r\n",
      "Requirement already satisfied: deepdiff==6.7.1 in /Users/vrsen/Projects/agency swarm/agency-swarm/env/lib/python3.10/site-packages (from agency-swarm) (6.7.1)\r\n",
      "Requirement already satisfied: termcolor==2.3.0 in /Users/vrsen/Projects/agency swarm/agency-swarm/env/lib/python3.10/site-packages (from agency-swarm) (2.3.0)\r\n",
      "Requirement already satisfied: python-dotenv==1.0.0 in /Users/vrsen/Projects/agency swarm/agency-swarm/env/lib/python3.10/site-packages (from agency-swarm) (1.0.0)\r\n",
      "Requirement already satisfied: rich==13.7.0 in /Users/vrsen/Projects/agency swarm/agency-swarm/env/lib/python3.10/site-packages (from agency-swarm) (13.7.0)\r\n",
      "Requirement already satisfied: jsonref==1.1.0 in /Users/vrsen/Projects/agency swarm/agency-swarm/env/lib/python3.10/site-packages (from agency-swarm) (1.1.0)\r\n",
      "Requirement already satisfied: openapi-spec-validator==0.7.1 in /Users/vrsen/Projects/agency swarm/agency-swarm/env/lib/python3.10/site-packages (from agency-swarm) (0.7.1)\r\n",
      "Requirement already satisfied: ordered-set<4.2.0,>=4.0.2 in /Users/vrsen/Projects/agency swarm/agency-swarm/env/lib/python3.10/site-packages (from deepdiff==6.7.1->agency-swarm) (4.1.0)\r\n",
      "Requirement already satisfied: aiohttp<4.0.0,>=3.9.1 in /Users/vrsen/Projects/agency swarm/agency-swarm/env/lib/python3.10/site-packages (from instructor==0.4.5->agency-swarm) (3.9.1)\r\n",
      "Requirement already satisfied: docstring-parser<0.16,>=0.15 in /Users/vrsen/Projects/agency swarm/agency-swarm/env/lib/python3.10/site-packages (from instructor==0.4.5->agency-swarm) (0.15)\r\n",
      "Requirement already satisfied: pydantic<3.0.0,>=2.0.2 in /Users/vrsen/Projects/agency swarm/agency-swarm/env/lib/python3.10/site-packages (from instructor==0.4.5->agency-swarm) (2.5.2)\r\n",
      "Requirement already satisfied: typer<0.10.0,>=0.9.0 in /Users/vrsen/Projects/agency swarm/agency-swarm/env/lib/python3.10/site-packages (from instructor==0.4.5->agency-swarm) (0.9.0)\r\n",
      "Requirement already satisfied: anyio<5,>=3.5.0 in /Users/vrsen/Projects/agency swarm/agency-swarm/env/lib/python3.10/site-packages (from openai==1.5.0->agency-swarm) (3.7.1)\r\n",
      "Requirement already satisfied: distro<2,>=1.7.0 in /Users/vrsen/Projects/agency swarm/agency-swarm/env/lib/python3.10/site-packages (from openai==1.5.0->agency-swarm) (1.8.0)\r\n",
      "Requirement already satisfied: httpx<1,>=0.23.0 in /Users/vrsen/Projects/agency swarm/agency-swarm/env/lib/python3.10/site-packages (from openai==1.5.0->agency-swarm) (0.25.2)\r\n",
      "Requirement already satisfied: sniffio in /Users/vrsen/Projects/agency swarm/agency-swarm/env/lib/python3.10/site-packages (from openai==1.5.0->agency-swarm) (1.3.0)\r\n",
      "Requirement already satisfied: tqdm>4 in /Users/vrsen/Projects/agency swarm/agency-swarm/env/lib/python3.10/site-packages (from openai==1.5.0->agency-swarm) (4.66.1)\r\n",
      "Requirement already satisfied: typing-extensions<5,>=4.5 in /Users/vrsen/Projects/agency swarm/agency-swarm/env/lib/python3.10/site-packages (from openai==1.5.0->agency-swarm) (4.9.0)\r\n",
      "Requirement already satisfied: jsonschema<5.0.0,>=4.18.0 in /Users/vrsen/Projects/agency swarm/agency-swarm/env/lib/python3.10/site-packages (from openapi-spec-validator==0.7.1->agency-swarm) (4.19.2)\r\n",
      "Requirement already satisfied: jsonschema-path<0.4.0,>=0.3.1 in /Users/vrsen/Projects/agency swarm/agency-swarm/env/lib/python3.10/site-packages (from openapi-spec-validator==0.7.1->agency-swarm) (0.3.2)\r\n",
      "Requirement already satisfied: lazy-object-proxy<2.0.0,>=1.7.1 in /Users/vrsen/Projects/agency swarm/agency-swarm/env/lib/python3.10/site-packages (from openapi-spec-validator==0.7.1->agency-swarm) (1.10.0)\r\n",
      "Requirement already satisfied: openapi-schema-validator<0.7.0,>=0.6.0 in /Users/vrsen/Projects/agency swarm/agency-swarm/env/lib/python3.10/site-packages (from openapi-spec-validator==0.7.1->agency-swarm) (0.6.2)\r\n",
      "Requirement already satisfied: markdown-it-py>=2.2.0 in /Users/vrsen/Projects/agency swarm/agency-swarm/env/lib/python3.10/site-packages (from rich==13.7.0->agency-swarm) (3.0.0)\r\n",
      "Requirement already satisfied: pygments<3.0.0,>=2.13.0 in /Users/vrsen/Projects/agency swarm/agency-swarm/env/lib/python3.10/site-packages (from rich==13.7.0->agency-swarm) (2.15.1)\r\n",
      "Requirement already satisfied: urllib3<3,>=1.26 in /Users/vrsen/Projects/agency swarm/agency-swarm/env/lib/python3.10/site-packages (from urllib3[socks]<3,>=1.26->selenium) (1.26.18)\r\n",
      "Requirement already satisfied: trio~=0.17 in /Users/vrsen/Projects/agency swarm/agency-swarm/env/lib/python3.10/site-packages (from selenium) (0.23.2)\r\n",
      "Requirement already satisfied: trio-websocket~=0.9 in /Users/vrsen/Projects/agency swarm/agency-swarm/env/lib/python3.10/site-packages (from selenium) (0.11.1)\r\n",
      "Requirement already satisfied: certifi>=2021.10.8 in /Users/vrsen/Projects/agency swarm/agency-swarm/env/lib/python3.10/site-packages (from selenium) (2023.11.17)\r\n",
      "Requirement already satisfied: requests in /Users/vrsen/Projects/agency swarm/agency-swarm/env/lib/python3.10/site-packages (from webdriver-manager) (2.31.0)\r\n",
      "Requirement already satisfied: packaging in /Users/vrsen/Projects/agency swarm/agency-swarm/env/lib/python3.10/site-packages (from webdriver-manager) (23.1)\r\n",
      "Requirement already satisfied: aiofiles<24.0,>=22.0 in /Users/vrsen/Projects/agency swarm/agency-swarm/env/lib/python3.10/site-packages (from gradio) (23.2.1)\r\n",
      "Requirement already satisfied: altair<6.0,>=4.2.0 in /Users/vrsen/Projects/agency swarm/agency-swarm/env/lib/python3.10/site-packages (from gradio) (5.2.0)\r\n",
      "Requirement already satisfied: fastapi in /Users/vrsen/Projects/agency swarm/agency-swarm/env/lib/python3.10/site-packages (from gradio) (0.105.0)\r\n",
      "Requirement already satisfied: ffmpy in /Users/vrsen/Projects/agency swarm/agency-swarm/env/lib/python3.10/site-packages (from gradio) (0.3.1)\r\n",
      "Requirement already satisfied: gradio-client==0.7.3 in /Users/vrsen/Projects/agency swarm/agency-swarm/env/lib/python3.10/site-packages (from gradio) (0.7.3)\r\n",
      "Requirement already satisfied: huggingface-hub>=0.19.3 in /Users/vrsen/Projects/agency swarm/agency-swarm/env/lib/python3.10/site-packages (from gradio) (0.19.4)\r\n",
      "Requirement already satisfied: importlib-resources<7.0,>=1.3 in /Users/vrsen/Projects/agency swarm/agency-swarm/env/lib/python3.10/site-packages (from gradio) (6.1.1)\r\n",
      "Requirement already satisfied: jinja2<4.0 in /Users/vrsen/Projects/agency swarm/agency-swarm/env/lib/python3.10/site-packages (from gradio) (3.1.2)\r\n",
      "Requirement already satisfied: markupsafe~=2.0 in /Users/vrsen/Projects/agency swarm/agency-swarm/env/lib/python3.10/site-packages (from gradio) (2.1.1)\r\n",
      "Requirement already satisfied: matplotlib~=3.0 in /Users/vrsen/Projects/agency swarm/agency-swarm/env/lib/python3.10/site-packages (from gradio) (3.8.2)\r\n",
      "Requirement already satisfied: numpy~=1.0 in /Users/vrsen/Projects/agency swarm/agency-swarm/env/lib/python3.10/site-packages (from gradio) (1.26.2)\r\n",
      "Requirement already satisfied: orjson~=3.0 in /Users/vrsen/Projects/agency swarm/agency-swarm/env/lib/python3.10/site-packages (from gradio) (3.9.10)\r\n",
      "Requirement already satisfied: pandas<3.0,>=1.0 in /Users/vrsen/Projects/agency swarm/agency-swarm/env/lib/python3.10/site-packages (from gradio) (2.1.4)\r\n",
      "Requirement already satisfied: pillow<11.0,>=8.0 in /Users/vrsen/Projects/agency swarm/agency-swarm/env/lib/python3.10/site-packages (from gradio) (10.1.0)\r\n",
      "Requirement already satisfied: pydub in /Users/vrsen/Projects/agency swarm/agency-swarm/env/lib/python3.10/site-packages (from gradio) (0.25.1)\r\n",
      "Requirement already satisfied: python-multipart in /Users/vrsen/Projects/agency swarm/agency-swarm/env/lib/python3.10/site-packages (from gradio) (0.0.6)\r\n",
      "Requirement already satisfied: pyyaml<7.0,>=5.0 in /Users/vrsen/Projects/agency swarm/agency-swarm/env/lib/python3.10/site-packages (from gradio) (6.0.1)\r\n",
      "Requirement already satisfied: semantic-version~=2.0 in /Users/vrsen/Projects/agency swarm/agency-swarm/env/lib/python3.10/site-packages (from gradio) (2.10.0)\r\n",
      "Requirement already satisfied: tomlkit==0.12.0 in /Users/vrsen/Projects/agency swarm/agency-swarm/env/lib/python3.10/site-packages (from gradio) (0.12.0)\r\n",
      "Requirement already satisfied: uvicorn>=0.14.0 in /Users/vrsen/Projects/agency swarm/agency-swarm/env/lib/python3.10/site-packages (from gradio) (0.24.0.post1)\r\n",
      "Requirement already satisfied: fsspec in /Users/vrsen/Projects/agency swarm/agency-swarm/env/lib/python3.10/site-packages (from gradio-client==0.7.3->gradio) (2023.12.2)\r\n",
      "Requirement already satisfied: websockets<12.0,>=10.0 in /Users/vrsen/Projects/agency swarm/agency-swarm/env/lib/python3.10/site-packages (from gradio-client==0.7.3->gradio) (11.0.3)\r\n",
      "Requirement already satisfied: toolz in /Users/vrsen/Projects/agency swarm/agency-swarm/env/lib/python3.10/site-packages (from altair<6.0,>=4.2.0->gradio) (0.12.0)\r\n",
      "Requirement already satisfied: httpcore==1.* in /Users/vrsen/Projects/agency swarm/agency-swarm/env/lib/python3.10/site-packages (from httpx<1,>=0.23.0->openai==1.5.0->agency-swarm) (1.0.2)\r\n",
      "Requirement already satisfied: idna in /Users/vrsen/Projects/agency swarm/agency-swarm/env/lib/python3.10/site-packages (from httpx<1,>=0.23.0->openai==1.5.0->agency-swarm) (3.4)\r\n",
      "Requirement already satisfied: h11<0.15,>=0.13 in /Users/vrsen/Projects/agency swarm/agency-swarm/env/lib/python3.10/site-packages (from httpcore==1.*->httpx<1,>=0.23.0->openai==1.5.0->agency-swarm) (0.14.0)\r\n",
      "Requirement already satisfied: filelock in /Users/vrsen/Projects/agency swarm/agency-swarm/env/lib/python3.10/site-packages (from huggingface-hub>=0.19.3->gradio) (3.13.1)\r\n",
      "Requirement already satisfied: contourpy>=1.0.1 in /Users/vrsen/Projects/agency swarm/agency-swarm/env/lib/python3.10/site-packages (from matplotlib~=3.0->gradio) (1.2.0)\r\n",
      "Requirement already satisfied: cycler>=0.10 in /Users/vrsen/Projects/agency swarm/agency-swarm/env/lib/python3.10/site-packages (from matplotlib~=3.0->gradio) (0.12.1)\r\n",
      "Requirement already satisfied: fonttools>=4.22.0 in /Users/vrsen/Projects/agency swarm/agency-swarm/env/lib/python3.10/site-packages (from matplotlib~=3.0->gradio) (4.46.0)\r\n",
      "Requirement already satisfied: kiwisolver>=1.3.1 in /Users/vrsen/Projects/agency swarm/agency-swarm/env/lib/python3.10/site-packages (from matplotlib~=3.0->gradio) (1.4.5)\r\n",
      "Requirement already satisfied: pyparsing>=2.3.1 in /Users/vrsen/Projects/agency swarm/agency-swarm/env/lib/python3.10/site-packages (from matplotlib~=3.0->gradio) (3.1.1)\r\n",
      "Requirement already satisfied: python-dateutil>=2.7 in /Users/vrsen/Projects/agency swarm/agency-swarm/env/lib/python3.10/site-packages (from matplotlib~=3.0->gradio) (2.8.2)\r\n",
      "Requirement already satisfied: pytz>=2020.1 in /Users/vrsen/Projects/agency swarm/agency-swarm/env/lib/python3.10/site-packages (from pandas<3.0,>=1.0->gradio) (2023.3.post1)\r\n",
      "Requirement already satisfied: tzdata>=2022.1 in /Users/vrsen/Projects/agency swarm/agency-swarm/env/lib/python3.10/site-packages (from pandas<3.0,>=1.0->gradio) (2023.3)\r\n",
      "Requirement already satisfied: annotated-types>=0.4.0 in /Users/vrsen/Projects/agency swarm/agency-swarm/env/lib/python3.10/site-packages (from pydantic<3.0.0,>=2.0.2->instructor==0.4.5->agency-swarm) (0.6.0)\r\n",
      "Requirement already satisfied: pydantic-core==2.14.5 in /Users/vrsen/Projects/agency swarm/agency-swarm/env/lib/python3.10/site-packages (from pydantic<3.0.0,>=2.0.2->instructor==0.4.5->agency-swarm) (2.14.5)\r\n",
      "Requirement already satisfied: attrs>=20.1.0 in /Users/vrsen/Projects/agency swarm/agency-swarm/env/lib/python3.10/site-packages (from trio~=0.17->selenium) (23.1.0)\r\n",
      "Requirement already satisfied: sortedcontainers in /Users/vrsen/Projects/agency swarm/agency-swarm/env/lib/python3.10/site-packages (from trio~=0.17->selenium) (2.4.0)\r\n",
      "Requirement already satisfied: outcome in /Users/vrsen/Projects/agency swarm/agency-swarm/env/lib/python3.10/site-packages (from trio~=0.17->selenium) (1.3.0.post0)\r\n",
      "Requirement already satisfied: exceptiongroup in /Users/vrsen/Projects/agency swarm/agency-swarm/env/lib/python3.10/site-packages (from trio~=0.17->selenium) (1.0.4)\r\n",
      "Requirement already satisfied: wsproto>=0.14 in /Users/vrsen/Projects/agency swarm/agency-swarm/env/lib/python3.10/site-packages (from trio-websocket~=0.9->selenium) (1.2.0)\r\n",
      "Requirement already satisfied: click<9.0.0,>=7.1.1 in /Users/vrsen/Projects/agency swarm/agency-swarm/env/lib/python3.10/site-packages (from typer<0.10.0,>=0.9.0->instructor==0.4.5->agency-swarm) (8.1.7)\r\n",
      "Requirement already satisfied: colorama<0.5.0,>=0.4.3 in /Users/vrsen/Projects/agency swarm/agency-swarm/env/lib/python3.10/site-packages (from typer[all]<1.0,>=0.9->gradio) (0.4.6)\r\n",
      "Requirement already satisfied: shellingham<2.0.0,>=1.3.0 in /Users/vrsen/Projects/agency swarm/agency-swarm/env/lib/python3.10/site-packages (from typer[all]<1.0,>=0.9->gradio) (1.5.4)\r\n",
      "Requirement already satisfied: PySocks!=1.5.7,<2.0,>=1.5.6 in /Users/vrsen/Projects/agency swarm/agency-swarm/env/lib/python3.10/site-packages (from urllib3[socks]<3,>=1.26->selenium) (1.7.1)\r\n",
      "Requirement already satisfied: starlette<0.28.0,>=0.27.0 in /Users/vrsen/Projects/agency swarm/agency-swarm/env/lib/python3.10/site-packages (from fastapi->gradio) (0.27.0)\r\n",
      "Requirement already satisfied: charset-normalizer<4,>=2 in /Users/vrsen/Projects/agency swarm/agency-swarm/env/lib/python3.10/site-packages (from requests->webdriver-manager) (2.0.4)\r\n",
      "Requirement already satisfied: multidict<7.0,>=4.5 in /Users/vrsen/Projects/agency swarm/agency-swarm/env/lib/python3.10/site-packages (from aiohttp<4.0.0,>=3.9.1->instructor==0.4.5->agency-swarm) (6.0.4)\r\n",
      "Requirement already satisfied: yarl<2.0,>=1.0 in /Users/vrsen/Projects/agency swarm/agency-swarm/env/lib/python3.10/site-packages (from aiohttp<4.0.0,>=3.9.1->instructor==0.4.5->agency-swarm) (1.9.3)\r\n",
      "Requirement already satisfied: frozenlist>=1.1.1 in /Users/vrsen/Projects/agency swarm/agency-swarm/env/lib/python3.10/site-packages (from aiohttp<4.0.0,>=3.9.1->instructor==0.4.5->agency-swarm) (1.4.0)\r\n",
      "Requirement already satisfied: aiosignal>=1.1.2 in /Users/vrsen/Projects/agency swarm/agency-swarm/env/lib/python3.10/site-packages (from aiohttp<4.0.0,>=3.9.1->instructor==0.4.5->agency-swarm) (1.3.1)\r\n",
      "Requirement already satisfied: async-timeout<5.0,>=4.0 in /Users/vrsen/Projects/agency swarm/agency-swarm/env/lib/python3.10/site-packages (from aiohttp<4.0.0,>=3.9.1->instructor==0.4.5->agency-swarm) (4.0.3)\r\n",
      "Requirement already satisfied: jsonschema-specifications>=2023.03.6 in /Users/vrsen/Projects/agency swarm/agency-swarm/env/lib/python3.10/site-packages (from jsonschema<5.0.0,>=4.18.0->openapi-spec-validator==0.7.1->agency-swarm) (2023.7.1)\r\n",
      "Requirement already satisfied: referencing>=0.28.4 in /Users/vrsen/Projects/agency swarm/agency-swarm/env/lib/python3.10/site-packages (from jsonschema<5.0.0,>=4.18.0->openapi-spec-validator==0.7.1->agency-swarm) (0.30.2)\r\n",
      "Requirement already satisfied: rpds-py>=0.7.1 in /Users/vrsen/Projects/agency swarm/agency-swarm/env/lib/python3.10/site-packages (from jsonschema<5.0.0,>=4.18.0->openapi-spec-validator==0.7.1->agency-swarm) (0.10.6)\r\n",
      "Requirement already satisfied: pathable<0.5.0,>=0.4.1 in /Users/vrsen/Projects/agency swarm/agency-swarm/env/lib/python3.10/site-packages (from jsonschema-path<0.4.0,>=0.3.1->openapi-spec-validator==0.7.1->agency-swarm) (0.4.3)\r\n",
      "Requirement already satisfied: mdurl~=0.1 in /Users/vrsen/Projects/agency swarm/agency-swarm/env/lib/python3.10/site-packages (from markdown-it-py>=2.2.0->rich==13.7.0->agency-swarm) (0.1.2)\r\n",
      "Requirement already satisfied: rfc3339-validator in /Users/vrsen/Projects/agency swarm/agency-swarm/env/lib/python3.10/site-packages (from openapi-schema-validator<0.7.0,>=0.6.0->openapi-spec-validator==0.7.1->agency-swarm) (0.1.4)\r\n",
      "Requirement already satisfied: six>=1.5 in /Users/vrsen/Projects/agency swarm/agency-swarm/env/lib/python3.10/site-packages (from python-dateutil>=2.7->matplotlib~=3.0->gradio) (1.16.0)\r\n"
     ]
    }
   ],
   "source": [
    "!pip install agency-swarm selenium webdriver-manager selenium_stealth gradio"
   ],
   "metadata": {
    "collapsed": false,
    "ExecuteTime": {
     "end_time": "2024-01-20T02:55:04.842809Z",
     "start_time": "2024-01-20T02:55:03.742371Z"
    }
   },
   "id": "dfd7b2e0ab798deb",
   "execution_count": 1
  },
  {
   "cell_type": "code",
   "execution_count": null,
   "id": "1ee6f9992fb209c4",
   "metadata": {
    "ExecuteTime": {
     "end_time": "2024-01-17T06:46:09.405416Z",
     "start_time": "2024-01-17T06:46:08.961556Z"
    },
    "collapsed": false
   },
   "outputs": [],
   "source": [
    "from agency_swarm import set_openai_key\n",
    "set_openai_key(\"YOUR_OPENAI_API_KEY\")"
   ]
  },
  {
   "cell_type": "code",
   "execution_count": null,
   "id": "6cafc0d9a51ed4c9",
   "metadata": {
    "ExecuteTime": {
     "end_time": "2024-01-17T06:46:09.407132Z",
     "start_time": "2024-01-17T06:46:09.334424Z"
    },
    "collapsed": false
   },
   "outputs": [],
   "source": [
    "from agency_swarm.agency.genesis import GenesisAgency"
   ]
  },
  {
   "cell_type": "code",
   "execution_count": null,
   "id": "64b988e65898f6b3",
   "metadata": {
    "ExecuteTime": {
     "end_time": "2024-01-17T06:46:11.468684Z",
     "start_time": "2024-01-17T06:46:09.396088Z"
    },
    "collapsed": false
   },
   "outputs": [],
   "source": [
    "test_agency = GenesisAgency()"
   ]
  },
  {
   "cell_type": "code",
   "execution_count": null,
   "id": "c95ce4524b2b3ab4",
   "metadata": {
    "ExecuteTime": {
     "end_time": "2024-01-17T06:46:11.469085Z",
     "start_time": "2024-01-17T06:46:11.469003Z"
    },
    "collapsed": false
   },
   "outputs": [],
   "source": [
    "test_agency.demo_gradio()"
   ]
  }
 ],
 "metadata": {
  "kernelspec": {
   "display_name": "Python 3 (ipykernel)",
   "language": "python",
   "name": "python3"
  },
  "language_info": {
   "codemirror_mode": {
    "name": "ipython",
    "version": 3
   },
   "file_extension": ".py",
   "mimetype": "text/x-python",
   "name": "python",
   "nbconvert_exporter": "python",
   "pygments_lexer": "ipython3",
   "version": "3.10.13"
  }
 },
 "nbformat": 4,
 "nbformat_minor": 5
}
