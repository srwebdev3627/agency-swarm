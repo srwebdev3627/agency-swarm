{
 "cells": [
  {
   "cell_type": "code",
   "execution_count": 1,
   "id": "initial_id",
   "metadata": {
    "collapsed": true,
    "ExecuteTime": {
     "end_time": "2023-12-27T05:30:27.478524Z",
     "start_time": "2023-12-27T05:30:27.130688Z"
    }
   },
   "outputs": [],
   "source": [
    "import sys\n",
    "sys.path.append('../agency_swarm') \n",
    "\n",
    "%load_ext autoreload\n",
    "\n",
    "%autoreload 2\n",
    "import agency_swarm\n",
    "from agency_swarm import Agency, Agent"
   ]
  },
  {
   "cell_type": "code",
   "execution_count": 2,
   "outputs": [],
   "source": [
    "from agency_swarm.agency.genesis import GenesisAgency"
   ],
   "metadata": {
    "collapsed": false,
    "ExecuteTime": {
     "end_time": "2023-12-27T05:30:27.493295Z",
     "start_time": "2023-12-27T05:30:27.478893Z"
    }
   },
   "id": "76092f19655acaa8"
  },
  {
   "cell_type": "code",
   "outputs": [
    {
     "name": "stdout",
     "output_type": "stream",
     "text": [
      "File already uploaded. Skipping... README_file-U729zOC80accAZEUPqPdv79H.md\n",
      "Detected files without Retrieval. Adding Retrieval tool...\n",
      "Updating assistant... GenesisCEO\n",
      "File already uploaded. Skipping... README_file-U729zOC80accAZEUPqPdv79H.md\n",
      "Detected files without Retrieval. Adding Retrieval tool...\n",
      "Updating assistant... AgentCreator\n"
     ]
    }
   ],
   "source": [
    "genesis_agency = GenesisAgency()"
   ],
   "metadata": {
    "collapsed": false,
    "ExecuteTime": {
     "end_time": "2023-12-27T05:30:30.822624Z",
     "start_time": "2023-12-27T05:30:27.551738Z"
    }
   },
   "id": "55fd6600d156e4c8",
   "execution_count": 3
  },
  {
   "cell_type": "code",
   "outputs": [
    {
     "name": "stdout",
     "output_type": "stream",
     "text": [
      "Running on local URL:  http://127.0.0.1:7860\n",
      "\n",
      "To create a public link, set `share=True` in `launch()`.\n"
     ]
    },
    {
     "data": {
      "text/plain": "<IPython.core.display.HTML object>",
      "text/html": "<div><iframe src=\"http://127.0.0.1:7860/\" width=\"100%\" height=\"500\" allow=\"autoplay; camera; microphone; clipboard-read; clipboard-write;\" frameborder=\"0\" allowfullscreen></iframe></div>"
     },
     "metadata": {},
     "output_type": "display_data"
    },
    {
     "data": {
      "text/plain": "Gradio Blocks instance: 2 backend functions\n-------------------------------------------\nfn_index=0\n inputs:\n |-textbox\n |-chatbot\n outputs:\n |-textbox\n |-chatbot\nfn_index=1\n inputs:\n |-chatbot\n outputs:\n |-chatbot"
     },
     "execution_count": 4,
     "metadata": {},
     "output_type": "execute_result"
    }
   ],
   "source": [
    "genesis_agency.demo_gradio()"
   ],
   "metadata": {
    "collapsed": false,
    "ExecuteTime": {
     "end_time": "2023-12-27T05:30:32.057474Z",
     "start_time": "2023-12-27T05:30:30.822632Z"
    }
   },
   "id": "af34185ee51ae32",
   "execution_count": 4
  },
  {
   "cell_type": "code",
   "outputs": [],
   "source": [],
   "metadata": {
    "collapsed": false
   },
   "id": "5f0be13e590ba35b"
  }
 ],
 "metadata": {
  "kernelspec": {
   "display_name": "Python 3",
   "language": "python",
   "name": "python3"
  },
  "language_info": {
   "codemirror_mode": {
    "name": "ipython",
    "version": 3
   },
   "file_extension": ".py",
   "mimetype": "text/x-python",
   "name": "python",
   "nbconvert_exporter": "python",
   "pygments_lexer": "ipython3",
   "version": "3.10.13"
  }
 },
 "nbformat": 4,
 "nbformat_minor": 5
}
