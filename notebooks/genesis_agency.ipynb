{
 "cells": [
  {
   "cell_type": "code",
   "execution_count": 1,
   "id": "initial_id",
   "metadata": {
    "collapsed": true,
    "ExecuteTime": {
     "end_time": "2024-01-08T05:44:17.268992Z",
     "start_time": "2024-01-08T05:44:17.256283Z"
    }
   },
   "outputs": [],
   "source": [
    "import sys\n",
    "sys.path.append('../agency_swarm') \n",
    "\n",
    "%load_ext autoreload\n",
    "\n",
    "%autoreload 2"
   ]
  },
  {
   "cell_type": "code",
   "outputs": [],
   "source": [
    "%reload_ext autoreload"
   ],
   "metadata": {
    "collapsed": false,
    "ExecuteTime": {
     "end_time": "2024-01-08T05:44:17.585258Z",
     "start_time": "2024-01-08T05:44:17.429860Z"
    }
   },
   "id": "85f1c8fb6aab6421",
   "execution_count": 2
  },
  {
   "cell_type": "code",
   "outputs": [],
   "source": [
    "from agency_swarm.agents.genesis import AgentCreator, ToolCreator\n",
    "from agency_swarm.agency.genesis import GenesisAgency"
   ],
   "metadata": {
    "collapsed": false,
    "ExecuteTime": {
     "end_time": "2024-01-08T05:44:18.268650Z",
     "start_time": "2024-01-08T05:44:17.805202Z"
    }
   },
   "id": "6cafc0d9a51ed4c9",
   "execution_count": 3
  },
  {
   "cell_type": "code",
   "outputs": [
    {
     "name": "stdout",
     "output_type": "stream",
     "text": [
      "Updating assistant... GenesisCEO\n",
      "Updating assistant... AgentCreator\n",
      "Updating assistant... BrowsingAgent\n"
     ]
    }
   ],
   "source": [
    "agent_creator = AgentCreator()\n",
    "tool_creator = ToolCreator()\n",
    "\n",
    "test_agency = GenesisAgency(\n",
    "#     agency_chart=[\n",
    "#     agent_creator,\n",
    "#     [agent_creator, tool_creator]\n",
    "# ]\n",
    ")"
   ],
   "metadata": {
    "collapsed": false,
    "ExecuteTime": {
     "end_time": "2024-01-08T05:44:20.776983Z",
     "start_time": "2024-01-08T05:44:18.268776Z"
    }
   },
   "id": "64b988e65898f6b3",
   "execution_count": 4
  },
  {
   "cell_type": "code",
   "outputs": [
    {
     "name": "stdout",
     "output_type": "stream",
     "text": [
      "Running on local URL:  http://127.0.0.1:7860\n",
      "\n",
      "To create a public link, set `share=True` in `launch()`.\n"
     ]
    },
    {
     "data": {
      "text/plain": "<IPython.core.display.HTML object>",
      "text/html": "<div><iframe src=\"http://127.0.0.1:7860/\" width=\"100%\" height=\"500\" allow=\"autoplay; camera; microphone; clipboard-read; clipboard-write;\" frameborder=\"0\" allowfullscreen></iframe></div>"
     },
     "metadata": {},
     "output_type": "display_data"
    },
    {
     "data": {
      "text/plain": "Gradio Blocks instance: 2 backend functions\n-------------------------------------------\nfn_index=0\n inputs:\n |-textbox\n |-chatbot\n outputs:\n |-textbox\n |-chatbot\nfn_index=1\n inputs:\n |-chatbot\n outputs:\n |-chatbot"
     },
     "execution_count": 5,
     "metadata": {},
     "output_type": "execute_result"
    }
   ],
   "source": [
    "test_agency.demo_gradio()"
   ],
   "metadata": {
    "collapsed": false,
    "ExecuteTime": {
     "end_time": "2024-01-08T05:44:22.328449Z",
     "start_time": "2024-01-08T05:44:21.008168Z"
    }
   },
   "id": "c95ce4524b2b3ab4",
   "execution_count": 5
  },
  {
   "cell_type": "markdown",
   "source": [
    "I need a bitcoin investing agency"
   ],
   "metadata": {
    "collapsed": false
   },
   "id": "d8bde9936eea291b"
  },
  {
   "cell_type": "code",
   "outputs": [
    {
     "data": {
      "text/plain": "'test'"
     },
     "execution_count": 2,
     "metadata": {},
     "output_type": "execute_result"
    }
   ],
   "source": [
    "from agency_swarm.tools.genesis import CreateAgencyFolder\n",
    "\n",
    "CreateAgencyFolder(\n",
    "    caller_agent='test',\n",
    "    agency_name='bitcoin_investing',\n",
    ").te"
   ],
   "metadata": {
    "collapsed": false,
    "ExecuteTime": {
     "end_time": "2024-01-08T04:21:15.882155Z",
     "start_time": "2024-01-08T04:21:15.879067Z"
    }
   },
   "id": "b6b74102b2848482",
   "execution_count": 2
  },
  {
   "cell_type": "code",
   "outputs": [],
   "source": [],
   "metadata": {
    "collapsed": false
   },
   "id": "92b0b4c3dcb168e2"
  }
 ],
 "metadata": {
  "kernelspec": {
   "display_name": "Python 3",
   "language": "python",
   "name": "python3"
  },
  "language_info": {
   "codemirror_mode": {
    "name": "ipython",
    "version": 3
   },
   "file_extension": ".py",
   "mimetype": "text/x-python",
   "name": "python",
   "nbconvert_exporter": "python",
   "pygments_lexer": "ipython3",
   "version": "3.10.13"
  }
 },
 "nbformat": 4,
 "nbformat_minor": 5
}
