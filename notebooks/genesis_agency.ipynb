{
 "cells": [
  {
   "cell_type": "code",
   "execution_count": 1,
   "id": "initial_id",
   "metadata": {
    "collapsed": true,
    "ExecuteTime": {
     "end_time": "2023-12-28T07:31:59.607878Z",
     "start_time": "2023-12-28T07:31:59.193970Z"
    }
   },
   "outputs": [],
   "source": [
    "import sys\n",
    "sys.path.append('../agency_swarm') \n",
    "\n",
    "%load_ext autoreload\n",
    "\n",
    "%autoreload 2\n",
    "import agency_swarm\n",
    "from agency_swarm import Agency, Agent"
   ]
  },
  {
   "cell_type": "code",
   "execution_count": 2,
   "outputs": [],
   "source": [
    "from agency_swarm.agency.genesis import GenesisAgency"
   ],
   "metadata": {
    "collapsed": false,
    "ExecuteTime": {
     "end_time": "2023-12-28T07:32:00.042298Z",
     "start_time": "2023-12-28T07:31:59.754847Z"
    }
   },
   "id": "76092f19655acaa8"
  },
  {
   "cell_type": "code",
   "outputs": [
    {
     "name": "stdout",
     "output_type": "stream",
     "text": [
      "Updating assistant... GenesisCEO\n",
      "Updating assistant... AgentCreator\n"
     ]
    }
   ],
   "source": [
    "genesis_agency = GenesisAgency()"
   ],
   "metadata": {
    "collapsed": false,
    "ExecuteTime": {
     "end_time": "2023-12-28T07:01:54.038853Z",
     "start_time": "2023-12-28T07:01:52.116332Z"
    }
   },
   "id": "55fd6600d156e4c8",
   "execution_count": 3
  },
  {
   "cell_type": "code",
   "outputs": [
    {
     "name": "stdout",
     "output_type": "stream",
     "text": [
      "Running on local URL:  http://127.0.0.1:7862\n",
      "\n",
      "To create a public link, set `share=True` in `launch()`.\n"
     ]
    },
    {
     "data": {
      "text/plain": "<IPython.core.display.HTML object>",
      "text/html": "<div><iframe src=\"http://127.0.0.1:7862/\" width=\"100%\" height=\"500\" allow=\"autoplay; camera; microphone; clipboard-read; clipboard-write;\" frameborder=\"0\" allowfullscreen></iframe></div>"
     },
     "metadata": {},
     "output_type": "display_data"
    },
    {
     "data": {
      "text/plain": "Gradio Blocks instance: 2 backend functions\n-------------------------------------------\nfn_index=0\n inputs:\n |-textbox\n |-chatbot\n outputs:\n |-textbox\n |-chatbot\nfn_index=1\n inputs:\n |-chatbot\n outputs:\n |-chatbot"
     },
     "execution_count": 4,
     "metadata": {},
     "output_type": "execute_result"
    }
   ],
   "source": [
    "genesis_agency.demo_gradio(height=900)"
   ],
   "metadata": {
    "collapsed": false,
    "ExecuteTime": {
     "end_time": "2023-12-28T07:01:55.760425Z",
     "start_time": "2023-12-28T07:01:54.040169Z"
    }
   },
   "id": "af34185ee51ae32",
   "execution_count": 4
  },
  {
   "cell_type": "code",
   "outputs": [
    {
     "name": "stdout",
     "output_type": "stream",
     "text": [
      "THREAD:[ user -> GenesisCEO ]: URL https://platform.openai.com/playground?assistant=asst_jMVIq50VpFG0266XfhQCasW6&mode=assistant&thread=thread_ld8AeVTxfB4At7KtCkHjMgnc\n"
     ]
    },
    {
     "data": {
      "text/plain": "\"The directory for the SmmA Agency has been successfully created. Let's move on to establishing the goals for your SmmA Agency. Can you please share some initial thoughts on the purposes and objectives of your SmmA Agency? This will help us in creating a cohesive manifesto.\""
     },
     "execution_count": 6,
     "metadata": {},
     "output_type": "execute_result"
    }
   ],
   "source": [
    "genesis_agency.get_completion(\"I need a SmmA Agency\", yield_messages=False)"
   ],
   "metadata": {
    "collapsed": false,
    "ExecuteTime": {
     "end_time": "2023-12-28T06:09:38.060673Z",
     "start_time": "2023-12-28T06:09:26.699115Z"
    }
   },
   "id": "5f0be13e590ba35b",
   "execution_count": 6
  },
  {
   "cell_type": "code",
   "outputs": [],
   "source": [
    "from agency_swarm.agents.genesis import AgentCreator, ToolCreator\n",
    "from agency_swarm import Agency\n",
    "from agency_swarm.agency.genesis import GenesisAgency"
   ],
   "metadata": {
    "collapsed": false,
    "ExecuteTime": {
     "end_time": "2023-12-28T07:38:31.575596Z",
     "start_time": "2023-12-28T07:38:31.175057Z"
    }
   },
   "id": "6cafc0d9a51ed4c9",
   "execution_count": 1
  },
  {
   "cell_type": "code",
   "outputs": [
    {
     "name": "stdout",
     "output_type": "stream",
     "text": [
      "Updating assistant... AgentCreator\n",
      "Updating assistant... ToolCreator\n"
     ]
    }
   ],
   "source": [
    "agent_creator = AgentCreator()\n",
    "tool_creator = ToolCreator()\n",
    "\n",
    "test_agency = GenesisAgency(agency_chart=[\n",
    "    agent_creator,\n",
    "    [agent_creator, tool_creator]\n",
    "])"
   ],
   "metadata": {
    "collapsed": false,
    "ExecuteTime": {
     "end_time": "2023-12-28T07:38:33.514828Z",
     "start_time": "2023-12-28T07:38:31.576670Z"
    }
   },
   "id": "64b988e65898f6b3",
   "execution_count": 2
  },
  {
   "cell_type": "code",
   "outputs": [
    {
     "name": "stdout",
     "output_type": "stream",
     "text": [
      "Running on local URL:  http://127.0.0.1:7862\n",
      "\n",
      "To create a public link, set `share=True` in `launch()`.\n"
     ]
    },
    {
     "data": {
      "text/plain": "<IPython.core.display.HTML object>",
      "text/html": "<div><iframe src=\"http://127.0.0.1:7862/\" width=\"100%\" height=\"500\" allow=\"autoplay; camera; microphone; clipboard-read; clipboard-write;\" frameborder=\"0\" allowfullscreen></iframe></div>"
     },
     "metadata": {},
     "output_type": "display_data"
    },
    {
     "data": {
      "text/plain": "Gradio Blocks instance: 2 backend functions\n-------------------------------------------\nfn_index=0\n inputs:\n |-textbox\n |-chatbot\n outputs:\n |-textbox\n |-chatbot\nfn_index=1\n inputs:\n |-chatbot\n outputs:\n |-chatbot"
     },
     "execution_count": 3,
     "metadata": {},
     "output_type": "execute_result"
    }
   ],
   "source": [
    "test_agency.demo_gradio(height=900)"
   ],
   "metadata": {
    "collapsed": false,
    "ExecuteTime": {
     "end_time": "2023-12-28T07:38:35.339386Z",
     "start_time": "2023-12-28T07:38:33.516171Z"
    }
   },
   "id": "c95ce4524b2b3ab4",
   "execution_count": 3
  },
  {
   "cell_type": "code",
   "outputs": [],
   "source": [],
   "metadata": {
    "collapsed": false
   },
   "id": "231ceeab6288c1d8"
  }
 ],
 "metadata": {
  "kernelspec": {
   "display_name": "Python 3",
   "language": "python",
   "name": "python3"
  },
  "language_info": {
   "codemirror_mode": {
    "name": "ipython",
    "version": 3
   },
   "file_extension": ".py",
   "mimetype": "text/x-python",
   "name": "python",
   "nbconvert_exporter": "python",
   "pygments_lexer": "ipython3",
   "version": "3.10.13"
  }
 },
 "nbformat": 4,
 "nbformat_minor": 5
}
