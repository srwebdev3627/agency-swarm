{
 "cells": [
  {
   "cell_type": "code",
   "execution_count": null,
   "id": "4e14ef4c098022de",
   "metadata": {
    "ExecuteTime": {
     "start_time": "2024-01-04T04:21:52.228510Z"
    },
    "collapsed": false,
    "jupyter": {
     "outputs_hidden": false
    }
   },
   "outputs": [],
   "source": [
    "!pip install -r ../requirements.txt\n",
    "!pip install selenium webdriver-manager selenium_stealth gradio"
   ]
  },
  {
   "cell_type": "markdown",
   "id": "f2506b86-ec2f-4740-9f4b-2a5a92f3689f",
   "metadata": {
    "collapsed": false,
    "jupyter": {
     "outputs_hidden": false
    }
   },
   "source": [
    "# Example From The Video\n",
    "Testing [oai-widget.com](https://oai-widget.com)"
   ]
  },
  {
   "cell_type": "code",
   "execution_count": null,
   "id": "initial_id",
   "metadata": {
    "ExecuteTime": {
     "end_time": "2024-01-11T02:50:45.987748Z",
     "start_time": "2024-01-11T02:50:45.977586Z"
    }
   },
   "outputs": [],
   "source": [
    "import sys\n",
    "sys.path.append('../agency_swarm') \n",
    "\n",
    "%load_ext autoreload\n",
    "\n",
    "%autoreload 2"
   ]
  },
  {
   "cell_type": "code",
   "execution_count": null,
   "id": "b3bb4f042e4b3050",
   "metadata": {
    "collapsed": false,
    "jupyter": {
     "outputs_hidden": false
    }
   },
   "outputs": [],
   "source": [
    "from agency_swarm import set_openai_key\n",
    "set_openai_key(\"YOUR_OPENAI_API_KEY\")"
   ]
  },
  {
   "cell_type": "code",
   "execution_count": null,
   "id": "45a0d3b52118f8cc",
   "metadata": {
    "collapsed": false,
    "jupyter": {
     "outputs_hidden": false
    }
   },
   "outputs": [],
   "source": [
    "from agency_swarm.agents.browsing import BrowsingAgent\n",
    "from agency_swarm import Agency, Agent"
   ]
  },
  {
   "cell_type": "code",
   "execution_count": null,
   "id": "6e83f218845b2060",
   "metadata": {
    "collapsed": false,
    "jupyter": {
     "outputs_hidden": false
    }
   },
   "outputs": [],
   "source": [
    "browsing_agent = BrowsingAgent()"
   ]
  },
  {
   "cell_type": "code",
   "execution_count": null,
   "id": "dc3c752d72ed8939",
   "metadata": {
    "collapsed": false,
    "jupyter": {
     "outputs_hidden": false
    }
   },
   "outputs": [],
   "source": [
    "qa_manager = Agent(name=\"QA Manager\",\n",
    "            description=\"The QA Manager Agent is an advanced digital entity designed to oversee and enhance the quality of processes for our SaaS product.\",\n",
    "            instructions=\"As a Quality Assurance (QA) Manager, your role involves direct interaction and oversight of the BrowsingAgent's operations. Your primary duty is to guarantee that the user's task is comprehensively and accurately completed. Achieve this by methodically issuing each step of the task as a distinct message to the BrowsingAgent. It's crucial to confirm the successful execution of one step before advancing to the next. This procedure forms part of an integration test, which will be conducted in a live production environment. Importantly, ensure to provide the BrowsingAgent with the actual credentials related to the task, enabling authentic testing scenarios.\")"
   ]
  },
  {
   "cell_type": "code",
   "execution_count": null,
   "id": "fef41ee496b4890d",
   "metadata": {
    "collapsed": false,
    "jupyter": {
     "outputs_hidden": false
    }
   },
   "outputs": [],
   "source": [
    "agency = Agency([qa_manager,\n",
    "                 [qa_manager, browsing_agent]])"
   ]
  },
  {
   "cell_type": "code",
   "execution_count": null,
   "id": "d0586b684514e713",
   "metadata": {
    "collapsed": false,
    "jupyter": {
     "outputs_hidden": false
    }
   },
   "outputs": [],
   "source": [
    "demo = agency.demo_gradio(height=700) # reload the notebook each time you run this cell"
   ]
  },
  {
   "cell_type": "markdown",
   "id": "c6acc12f-d36c-4534-abdc-27176eecfcc5",
   "metadata": {
    "collapsed": false,
    "jupyter": {
     "outputs_hidden": false
    }
   },
   "source": [
    "Here are the instructions for this quality assurance testing task:\n",
    "1. Login to the website https://www.oai-widget.com/ using credentials 'test' and 'test'\n",
    "2. Create a new widget\n",
    "3. Expend OpenAI section.\n",
    "4. Enter 'test' key in Api Keys input field.\n",
    "5. Enter 'Test Assistant' in Assistant input field.\n",
    "6. Save changes on this widget\n",
    "7. Send test message to the widget saying \"hello\"\n",
    "8. Ensure that response is received.\n",
    "\n",
    "If there are any issues along the way, please try to troubleshoot them yourself with the browsing agent first, before reporting back to me."
   ]
  },
  {
   "cell_type": "code",
   "execution_count": null,
   "id": "6decc2caf79dc22d",
   "metadata": {
    "collapsed": false,
    "jupyter": {
     "outputs_hidden": false
    }
   },
   "outputs": [],
   "source": [
    "demo.close()"
   ]
  },
  {
   "cell_type": "markdown",
   "id": "b131cf4e-20ed-4115-b5bb-de83ddced46c",
   "metadata": {
    "collapsed": false,
    "jupyter": {
     "outputs_hidden": false
    }
   },
   "source": [
    "# Creating Your Own Browsing Swarm"
   ]
  },
  {
   "cell_type": "markdown",
   "id": "e4decf6c-2f48-4aba-8e46-a8c2774ae7a5",
   "metadata": {
    "collapsed": false,
    "jupyter": {
     "outputs_hidden": false
    }
   },
   "source": []
  },
  {
   "cell_type": "code",
   "execution_count": null,
   "id": "10a116e29529fb08",
   "metadata": {
    "collapsed": false,
    "jupyter": {
     "outputs_hidden": false
    }
   },
   "outputs": [],
   "source": [
    "import sys\n",
    "sys.path.append('../agency_swarm') \n",
    "\n",
    "%load_ext autoreload\n",
    "\n",
    "%autoreload 2"
   ]
  },
  {
   "cell_type": "code",
   "execution_count": null,
   "id": "cba104a92da3f9e4",
   "metadata": {
    "collapsed": false,
    "jupyter": {
     "outputs_hidden": false
    }
   },
   "outputs": [],
   "source": [
    "from agency_swarm import set_openai_key\n",
    "set_openai_key(\"YOUR_OPENAI_API_KEY\")"
   ]
  },
  {
   "cell_type": "code",
   "execution_count": null,
   "id": "a6eca041305cce5a",
   "metadata": {
    "collapsed": false,
    "jupyter": {
     "outputs_hidden": false
    }
   },
   "outputs": [],
   "source": [
    "from agency_swarm.agents.browsing import BrowsingAgent\n",
    "from agency_swarm import Agency, Agent"
   ]
  },
  {
   "cell_type": "code",
   "execution_count": null,
   "id": "55d911e7d32a509c",
   "metadata": {
    "collapsed": false,
    "jupyter": {
     "outputs_hidden": false
    }
   },
   "outputs": [],
   "source": [
    "report_manager = Agent(name=\"Report Manager\",\n",
    "            description=\"The Report Manager Agent is responsible for supervising data collection from various weather websites and compiling reports as necessary.\",\n",
    "            instructions=\"As a Report Manager Agent, your role involves direct interaction and oversight of the BrowsingAgent's operations. Your primary duty is to guarantee that the user's task is comprehensively and accurately completed. Achieve this by methodically breaking down each task from the user into smaller steps required to complete it. Then, issue each step of the task as a distinct message to the BrowsingAgent. Make sure to always tell the browsing agent to go back to google search results before proceeding to the the next source. After the necessary data is collection, compile a report and send it to the user. Make sure to ask the browsing agent for direct links to the sources and include them into report. Try to trouble shoot any issues that may arise along the way with the other agents first, before reporting back to the user. Do not respond to the user until the report is complete or you have encountered an issue that you cannot resolve yourself.\")"
   ]
  },
  {
   "cell_type": "code",
   "execution_count": null,
   "id": "2215c629454380d1",
   "metadata": {
    "collapsed": false,
    "jupyter": {
     "outputs_hidden": false
    }
   },
   "outputs": [],
   "source": [
    "browsing_agent = BrowsingAgent()"
   ]
  },
  {
   "cell_type": "code",
   "execution_count": null,
   "id": "6fcafb1fdf523943",
   "metadata": {
    "collapsed": false,
    "jupyter": {
     "outputs_hidden": false
    }
   },
   "outputs": [],
   "source": [
    "agency = Agency([report_manager,\n",
    "                 [report_manager, browsing_agent]],\n",
    "                shared_instructions=\"You are a part of a data collection agency with the goal to find the most relevant information about people on the web. Your core value is autonomy and you are free to use any means necessary to achieve your goal. You do not stop until you have found the information you need or you have exhausted all possible means. You always to to compile a comprehensive report with as much information from the web pages as possible.\")"
   ]
  },
  {
   "cell_type": "markdown",
   "id": "fc27d1ed-678c-4a22-b465-f306db91e76e",
   "metadata": {
    "collapsed": false,
    "jupyter": {
     "outputs_hidden": false
    }
   },
   "source": [
    "Reload the notebook each time you run the cell below"
   ]
  },
  {
   "cell_type": "code",
   "execution_count": null,
   "id": "6e622ad186d4fef8",
   "metadata": {
    "collapsed": false,
    "jupyter": {
     "outputs_hidden": false
    }
   },
   "outputs": [],
   "source": [
    "agency.demo_gradio(height=900)"
   ]
  },
  {
   "cell_type": "markdown",
   "id": "d1fac448-98ff-44eb-aa17-b3125381aa24",
   "metadata": {
    "collapsed": false,
    "jupyter": {
     "outputs_hidden": false
    }
   },
   "source": [
    "Compile a report on Arsenii Shatokhin from the top 3 sources on google"
   ]
  },
  {
   "cell_type": "code",
   "execution_count": null,
   "id": "25ce5ab2798e019b",
   "metadata": {
    "collapsed": false,
    "jupyter": {
     "outputs_hidden": false
    }
   },
   "outputs": [],
   "source": [
    "demo.close()"
   ]
  },
  {
   "cell_type": "markdown",
   "id": "cbf09c8e-5599-4e15-adb6-e17e26775ce3",
   "metadata": {
    "collapsed": false,
    "jupyter": {
     "outputs_hidden": false
    }
   },
   "source": [
    "Here are the instructions:\n",
    "1. Tell browsing agent to to https://www.youtube.com/results?search_query=ai&sp=EgIQAg%253D%253D, which is a search results page for all channels on ai\n",
    "2. Click on channel link\n",
    "3. Click on more link near the channel description\n",
    "4. Check if channel has email address.\n",
    "5. If it doesn't, go back to step 2 and repeat for top 5 channels\n",
    "4. If it does, Click on view email address\n",
    "5. Solve captcha if required \n",
    "6. Copy email \n",
    "7. Repeat from step 1 for top 5 channels\n",
    "8. Send emails back to me"
   ]
  },
  {
   "cell_type": "markdown",
   "id": "2f24a9af-c38b-4e59-8237-5aca8a711b70",
   "metadata": {
    "collapsed": false,
    "jupyter": {
     "outputs_hidden": false
    }
   },
   "source": [
    "# Breaking Captchas\n",
    "You can run this example with no additional configuration.\n",
    "\n",
    "However, to add your own cookies, go to `chrome://version/` Then copy Profile path folder and paste it into Chrome Canary installation folder. You might also need to login with google first time the browser window opens. Don't forget to allow less secure apps: https://support.google.com/accounts/answer/6010255?hl=en"
   ]
  },
  {
   "cell_type": "code",
   "execution_count": null,
   "id": "f574bd57b35088b8",
   "metadata": {
    "ExecuteTime": {
     "end_time": "2024-01-04T04:22:06.368573Z",
     "start_time": "2024-01-04T04:22:04.471011Z"
    },
    "collapsed": false,
    "jupyter": {
     "outputs_hidden": false
    },
    "scrolled": true
   },
   "outputs": [],
   "source": [
    "!pip install -r ../requirements.txt\n",
    "!pip install selenium webdriver-manager selenium_stealth gradio"
   ]
  },
  {
   "cell_type": "code",
   "execution_count": null,
   "id": "b3bcb53e3e0638f6",
   "metadata": {
    "collapsed": false,
    "jupyter": {
     "outputs_hidden": false
    }
   },
   "outputs": [],
   "source": [
    "import sys\n",
    "sys.path.append('../agency_swarm') \n",
    "\n",
    "%load_ext autoreload\n",
    "\n",
    "%autoreload 2"
   ]
  },
  {
   "cell_type": "code",
   "execution_count": null,
   "id": "97376adcafed4820",
   "metadata": {
    "collapsed": false,
    "jupyter": {
     "outputs_hidden": false
    }
   },
   "outputs": [],
   "source": [
    "from agency_swarm import set_openai_key\n",
    "set_openai_key(\"YOUR_OPENAI_API_KEY\")"
   ]
  },
  {
   "cell_type": "code",
   "execution_count": null,
   "id": "86e2966a4afe3a89",
   "metadata": {
    "collapsed": false,
    "jupyter": {
     "outputs_hidden": false
    }
   },
   "outputs": [],
   "source": [
    "from agency_swarm.agents.browsing import BrowsingAgent\n",
    "from agency_swarm import Agency"
   ]
  },
  {
   "cell_type": "code",
   "execution_count": null,
   "id": "10b3ec1a2bd49658",
   "metadata": {
    "collapsed": false,
    "jupyter": {
     "outputs_hidden": false
    }
   },
   "outputs": [],
   "source": [
    "browsing_agent = BrowsingAgent(selenium_config={\n",
    "    #\"chrome_profile_path\": \"/Users/vrsen/Library/Application Support/Google/Chrome Canary/Profile 5\", # path to your canary chrome profile\n",
    "    \"headless\": False, # set to True if you don't want to see the browser\n",
    "})"
   ]
  },
  {
   "cell_type": "code",
   "execution_count": null,
   "id": "5f343de7bd09c6db",
   "metadata": {
    "collapsed": false,
    "jupyter": {
     "outputs_hidden": false
    }
   },
   "outputs": [],
   "source": [
    "agency = Agency([browsing_agent],shared_instructions=\"\")"
   ]
  },
  {
   "cell_type": "markdown",
   "id": "dab211ec-1367-4aef-884c-d788a553a7dc",
   "metadata": {
    "collapsed": false,
    "jupyter": {
     "outputs_hidden": false
    }
   },
   "source": [
    "### Task Instructions:\n",
    "\n",
    "Go to https://www.google.com/recaptcha/api2/demo and use solve captcha tool"
   ]
  },
  {
   "cell_type": "code",
   "execution_count": null,
   "id": "db538b4b13cdff38",
   "metadata": {
    "collapsed": false,
    "jupyter": {
     "outputs_hidden": false
    }
   },
   "outputs": [],
   "source": [
    "# Reload the notebook each time you run this cell \n",
    "# Additionally, do not change browser window size, or it will not work\n",
    "agency.demo_gradio(height=600)"
   ]
  }
 ],
 "metadata": {
  "kernelspec": {
   "display_name": "Python 3 (ipykernel)",
   "language": "python",
   "name": "python3"
  },
  "language_info": {
   "codemirror_mode": {
    "name": "ipython",
    "version": 3
   },
   "file_extension": ".py",
   "mimetype": "text/x-python",
   "name": "python",
   "nbconvert_exporter": "python",
   "pygments_lexer": "ipython3",
   "version": "3.10.13"
  }
 },
 "nbformat": 4,
 "nbformat_minor": 5
}
