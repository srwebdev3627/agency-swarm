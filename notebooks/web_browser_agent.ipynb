{
 "cells": [
  {
   "cell_type": "code",
   "execution_count": null,
   "outputs": [
    {
     "name": "stdout",
     "output_type": "stream",
     "text": [
      "Requirement already satisfied: selenium in /Users/vrsen/Projects/agency swarm/agency-swarm/env/lib/python3.10/site-packages (4.16.0)\r\n",
      "Requirement already satisfied: webdriver-manager in /Users/vrsen/Projects/agency swarm/agency-swarm/env/lib/python3.10/site-packages (4.0.1)\r\n",
      "Requirement already satisfied: selenium_stealth in /Users/vrsen/Projects/agency swarm/agency-swarm/env/lib/python3.10/site-packages (1.0.6)\r\n",
      "Requirement already satisfied: urllib3<3,>=1.26 in /Users/vrsen/Projects/agency swarm/agency-swarm/env/lib/python3.10/site-packages (from urllib3[socks]<3,>=1.26->selenium) (1.26.18)\r\n",
      "Requirement already satisfied: trio~=0.17 in /Users/vrsen/Projects/agency swarm/agency-swarm/env/lib/python3.10/site-packages (from selenium) (0.23.2)\r\n",
      "Requirement already satisfied: trio-websocket~=0.9 in /Users/vrsen/Projects/agency swarm/agency-swarm/env/lib/python3.10/site-packages (from selenium) (0.11.1)\r\n",
      "Requirement already satisfied: certifi>=2021.10.8 in /Users/vrsen/Projects/agency swarm/agency-swarm/env/lib/python3.10/site-packages (from selenium) (2023.11.17)\r\n",
      "Requirement already satisfied: requests in /Users/vrsen/Projects/agency swarm/agency-swarm/env/lib/python3.10/site-packages (from webdriver-manager) (2.31.0)\r\n",
      "Requirement already satisfied: python-dotenv in /Users/vrsen/Projects/agency swarm/agency-swarm/env/lib/python3.10/site-packages (from webdriver-manager) (1.0.0)\r\n",
      "Requirement already satisfied: packaging in /Users/vrsen/Projects/agency swarm/agency-swarm/env/lib/python3.10/site-packages (from webdriver-manager) (23.1)\r\n",
      "Requirement already satisfied: attrs>=20.1.0 in /Users/vrsen/Projects/agency swarm/agency-swarm/env/lib/python3.10/site-packages (from trio~=0.17->selenium) (23.1.0)\r\n",
      "Requirement already satisfied: sortedcontainers in /Users/vrsen/Projects/agency swarm/agency-swarm/env/lib/python3.10/site-packages (from trio~=0.17->selenium) (2.4.0)\r\n",
      "Requirement already satisfied: idna in /Users/vrsen/Projects/agency swarm/agency-swarm/env/lib/python3.10/site-packages (from trio~=0.17->selenium) (3.4)\r\n",
      "Requirement already satisfied: outcome in /Users/vrsen/Projects/agency swarm/agency-swarm/env/lib/python3.10/site-packages (from trio~=0.17->selenium) (1.3.0.post0)\r\n",
      "Requirement already satisfied: sniffio>=1.3.0 in /Users/vrsen/Projects/agency swarm/agency-swarm/env/lib/python3.10/site-packages (from trio~=0.17->selenium) (1.3.0)\r\n",
      "Requirement already satisfied: exceptiongroup in /Users/vrsen/Projects/agency swarm/agency-swarm/env/lib/python3.10/site-packages (from trio~=0.17->selenium) (1.0.4)\r\n",
      "Requirement already satisfied: wsproto>=0.14 in /Users/vrsen/Projects/agency swarm/agency-swarm/env/lib/python3.10/site-packages (from trio-websocket~=0.9->selenium) (1.2.0)\r\n",
      "Requirement already satisfied: PySocks!=1.5.7,<2.0,>=1.5.6 in /Users/vrsen/Projects/agency swarm/agency-swarm/env/lib/python3.10/site-packages (from urllib3[socks]<3,>=1.26->selenium) (1.7.1)\r\n",
      "Requirement already satisfied: charset-normalizer<4,>=2 in /Users/vrsen/Projects/agency swarm/agency-swarm/env/lib/python3.10/site-packages (from requests->webdriver-manager) (2.0.4)\r\n",
      "Requirement already satisfied: h11<1,>=0.9.0 in /Users/vrsen/Projects/agency swarm/agency-swarm/env/lib/python3.10/site-packages (from wsproto>=0.14->trio-websocket~=0.9->selenium) (0.14.0)\r\n"
     ]
    }
   ],
   "source": [
    "!pip install selenium webdriver-manager selenium_stealth"
   ],
   "metadata": {
    "collapsed": false,
    "ExecuteTime": {
     "start_time": "2023-12-23T05:29:22.514930Z"
    }
   },
   "id": "4e14ef4c098022de"
  },
  {
   "cell_type": "markdown",
   "source": [
    "# Example From The Video\n",
    "Testing [oai-widget.com](https://oai-widget.com)"
   ],
   "metadata": {
    "collapsed": false
   },
   "id": "65f4e3db8ade99e9"
  },
  {
   "cell_type": "code",
   "outputs": [],
   "source": [
    "import sys\n",
    "sys.path.append('../agency_swarm') \n",
    "\n",
    "%load_ext autoreload\n",
    "\n",
    "%autoreload 2"
   ],
   "metadata": {
    "collapsed": true,
    "ExecuteTime": {
     "end_time": "2023-12-23T08:33:35.713851Z",
     "start_time": "2023-12-23T08:33:35.702630Z"
    }
   },
   "id": "initial_id",
   "execution_count": 1
  },
  {
   "cell_type": "code",
   "execution_count": 2,
   "outputs": [],
   "source": [
    "from agency_swarm.agents.browsing import BrowsingAgent\n",
    "from agency_swarm import Agency, Agent"
   ],
   "metadata": {
    "collapsed": false,
    "ExecuteTime": {
     "end_time": "2023-12-23T08:33:36.985597Z",
     "start_time": "2023-12-23T08:33:36.327100Z"
    }
   },
   "id": "45a0d3b52118f8cc"
  },
  {
   "cell_type": "code",
   "execution_count": 3,
   "outputs": [],
   "source": [
    "browsing_agent = BrowsingAgent()"
   ],
   "metadata": {
    "collapsed": false,
    "ExecuteTime": {
     "end_time": "2023-12-23T08:33:37.013595Z",
     "start_time": "2023-12-23T08:33:36.985736Z"
    }
   },
   "id": "6e83f218845b2060"
  },
  {
   "cell_type": "code",
   "execution_count": 4,
   "outputs": [],
   "source": [
    "qa_manager = Agent(name=\"QA Manager\",\n",
    "            description=\"The QA Manager Agent is an advanced digital entity designed to oversee and enhance the quality of processes for our SaaS product.\",\n",
    "            instructions=\"As a Quality Assurance (QA) Manager, your role involves direct interaction and oversight of the BrowsingAgent's operations. Your primary duty is to guarantee that the user's task is comprehensively and accurately completed. Achieve this by methodically issuing each step of the task as a distinct message to the BrowsingAgent. It's crucial to confirm the successful execution of one step before advancing to the next. This procedure forms part of an integration test, which will be conducted in a live production environment. Importantly, ensure to provide the BrowsingAgent with the actual credentials related to the task, enabling authentic testing scenarios.\")"
   ],
   "metadata": {
    "collapsed": false,
    "ExecuteTime": {
     "end_time": "2023-12-23T08:33:37.279799Z",
     "start_time": "2023-12-23T08:33:37.269522Z"
    }
   },
   "id": "dc3c752d72ed8939"
  },
  {
   "cell_type": "code",
   "execution_count": 5,
   "outputs": [
    {
     "name": "stdout",
     "output_type": "stream",
     "text": [
      "Updating assistant... QA Manager\n",
      "Updating assistant... BrowsingAgent\n"
     ]
    }
   ],
   "source": [
    "agency = Agency([qa_manager,\n",
    "                 [qa_manager, browsing_agent]])"
   ],
   "metadata": {
    "collapsed": false,
    "ExecuteTime": {
     "end_time": "2023-12-23T08:33:39.183902Z",
     "start_time": "2023-12-23T08:33:37.424224Z"
    }
   },
   "id": "fef41ee496b4890d"
  },
  {
   "cell_type": "code",
   "execution_count": 6,
   "outputs": [
    {
     "name": "stdout",
     "output_type": "stream",
     "text": [
      "Running on local URL:  http://127.0.0.1:7860\n",
      "\n",
      "To create a public link, set `share=True` in `launch()`.\n"
     ]
    },
    {
     "data": {
      "text/plain": "<IPython.core.display.HTML object>",
      "text/html": "<div><iframe src=\"http://127.0.0.1:7860/\" width=\"100%\" height=\"500\" allow=\"autoplay; camera; microphone; clipboard-read; clipboard-write;\" frameborder=\"0\" allowfullscreen></iframe></div>"
     },
     "metadata": {},
     "output_type": "display_data"
    }
   ],
   "source": [
    "demo = agency.demo_gradio(height=900) # reload the notebook each time you run this cell"
   ],
   "metadata": {
    "collapsed": false,
    "ExecuteTime": {
     "end_time": "2023-12-23T08:33:40.814080Z",
     "start_time": "2023-12-23T08:33:39.184756Z"
    }
   },
   "id": "d0586b684514e713"
  },
  {
   "cell_type": "markdown",
   "source": [
    "Here are the instructions for this quality assurance testing task:\n",
    "1. Login to the website https://www.oai-widget.com/ using credentials arsenii.shatokh@gmail.com 123123123\n",
    "2. Create a new widget\n",
    "3. Expend OpenAI section.\n",
    "4. Enter 'test' key in Api Keys input field.\n",
    "5. Enter 'Test Assistant' in Assistant input field.\n",
    "6. Save changes on this widget\n",
    "7. Send test message to the widget saying \"hello\"\n",
    "8. Ensure that response is received.\n",
    "\n",
    "If there are any issues along the way, please try to troubleshoot them yourself with the browsing agent first, before reporting back to me."
   ],
   "metadata": {
    "collapsed": false
   },
   "id": "4f3101f44f624b43"
  },
  {
   "cell_type": "code",
   "outputs": [],
   "source": [
    "demo.close()"
   ],
   "metadata": {
    "collapsed": false
   },
   "id": "6decc2caf79dc22d"
  },
  {
   "cell_type": "markdown",
   "source": [
    "# Creating Your Own Browsing Swarm"
   ],
   "metadata": {
    "collapsed": false
   },
   "id": "ef8e806cc7c257a2"
  },
  {
   "cell_type": "markdown",
   "source": [],
   "metadata": {
    "collapsed": false
   },
   "id": "4867d3eb93c38cce"
  },
  {
   "cell_type": "code",
   "outputs": [],
   "source": [
    "import sys\n",
    "sys.path.append('../agency_swarm') \n",
    "\n",
    "%load_ext autoreload\n",
    "\n",
    "%autoreload 2"
   ],
   "metadata": {
    "collapsed": false,
    "ExecuteTime": {
     "end_time": "2023-12-23T09:45:13.972667Z",
     "start_time": "2023-12-23T09:45:13.958287Z"
    }
   },
   "id": "10a116e29529fb08",
   "execution_count": 1
  },
  {
   "cell_type": "code",
   "outputs": [],
   "source": [
    "from agency_swarm.agents.browsing import BrowsingAgent\n",
    "from agency_swarm import Agency, Agent"
   ],
   "metadata": {
    "collapsed": false,
    "ExecuteTime": {
     "end_time": "2023-12-23T09:45:14.823668Z",
     "start_time": "2023-12-23T09:45:14.168599Z"
    }
   },
   "id": "a6eca041305cce5a",
   "execution_count": 2
  },
  {
   "cell_type": "code",
   "outputs": [],
   "source": [
    "report_manager = Agent(name=\"Report Manager\",\n",
    "            description=\"The Report Manager Agent is responsible for supervising data collection from various weather websites and compiling reports as necessary.\",\n",
    "            instructions=\"As a Report Manager Agent, your role involves direct interaction and oversight of the BrowsingAgent's operations. Your primary duty is to guarantee that the user's task is comprehensively and accurately completed. Achieve this by methodically breaking down each task from the user into smaller steps required to complete it. Then, issue each step of the task as a distinct message to the BrowsingAgent. It's crucial to confirm the successful execution of one step before advancing to the next. After the necessary data is collection, compile a report and send it to the user. Make sure to ask the browsing agent for direct links to the sources and include them into report. Try to trouble shoot any issues that may arise along the way with the other agents first, before reporting back to the user. Do not respond to the user until the report is complete or you have encountered an issue that you cannot resolve yourself.\")"
   ],
   "metadata": {
    "collapsed": false,
    "ExecuteTime": {
     "end_time": "2023-12-23T09:45:14.855129Z",
     "start_time": "2023-12-23T09:45:14.824340Z"
    }
   },
   "id": "55d911e7d32a509c",
   "execution_count": 3
  },
  {
   "cell_type": "code",
   "outputs": [],
   "source": [
    "browsing_agent = BrowsingAgent()\n",
    "browsing_agent.instructions += \" You can use the following credentials to login to linked in if needed Email:   Password: \" # insert credentials here"
   ],
   "metadata": {
    "collapsed": false,
    "ExecuteTime": {
     "end_time": "2023-12-23T09:45:14.867688Z",
     "start_time": "2023-12-23T09:45:14.855245Z"
    }
   },
   "id": "2215c629454380d1",
   "execution_count": 4
  },
  {
   "cell_type": "code",
   "outputs": [],
   "source": [
    "agency = Agency([report_manager,\n",
    "                 [report_manager, browsing_agent]],\n",
    "                shared_instructions=\"You are a part of a data collection agency with the goal to find the most relevant information about people on the web. Your core value is autonomy and you are free to use any means necessary to achieve your goal. You do not stop until you have found the information you need or you have exhausted all possible means. You always to to compile a comprehensive report with as much information from the web pages as possible.\")"
   ],
   "metadata": {
    "collapsed": false,
    "ExecuteTime": {
     "end_time": "2023-12-23T09:45:15.662021Z",
     "start_time": "2023-12-23T09:45:14.868674Z"
    }
   },
   "id": "6fcafb1fdf523943",
   "execution_count": 5
  },
  {
   "cell_type": "markdown",
   "source": [
    "Reload the notebook each time you run the cell below"
   ],
   "metadata": {
    "collapsed": false
   },
   "id": "f735bed0fe50e590"
  },
  {
   "cell_type": "code",
   "outputs": [
    {
     "name": "stdout",
     "output_type": "stream",
     "text": [
      "Running on local URL:  http://127.0.0.1:7860\n",
      "\n",
      "To create a public link, set `share=True` in `launch()`.\n"
     ]
    },
    {
     "data": {
      "text/plain": "<IPython.core.display.HTML object>",
      "text/html": "<div><iframe src=\"http://127.0.0.1:7860/\" width=\"100%\" height=\"500\" allow=\"autoplay; camera; microphone; clipboard-read; clipboard-write;\" frameborder=\"0\" allowfullscreen></iframe></div>"
     },
     "metadata": {},
     "output_type": "display_data"
    },
    {
     "data": {
      "text/plain": "Gradio Blocks instance: 2 backend functions\n-------------------------------------------\nfn_index=0\n inputs:\n |-textbox\n |-chatbot\n outputs:\n |-textbox\n |-chatbot\nfn_index=1\n inputs:\n |-chatbot\n outputs:\n |-chatbot"
     },
     "execution_count": 6,
     "metadata": {},
     "output_type": "execute_result"
    }
   ],
   "source": [
    "agency.demo_gradio(height=900)"
   ],
   "metadata": {
    "collapsed": false,
    "ExecuteTime": {
     "end_time": "2023-12-23T09:45:17.123069Z",
     "start_time": "2023-12-23T09:45:15.662850Z"
    }
   },
   "id": "6e622ad186d4fef8",
   "execution_count": 6
  },
  {
   "cell_type": "markdown",
   "source": [
    "Compile a report on Arsenii Shatokhin from top 3 sources on google"
   ],
   "metadata": {
    "collapsed": false
   },
   "id": "83024788dfcf7031"
  },
  {
   "cell_type": "code",
   "outputs": [],
   "source": [
    "demo.close()"
   ],
   "metadata": {
    "collapsed": false
   },
   "id": "25ce5ab2798e019b"
  }
 ],
 "metadata": {
  "kernelspec": {
   "display_name": "Python 3",
   "language": "python",
   "name": "python3"
  },
  "language_info": {
   "codemirror_mode": {
    "name": "ipython",
    "version": 2
   },
   "file_extension": ".py",
   "mimetype": "text/x-python",
   "name": "python",
   "nbconvert_exporter": "python",
   "pygments_lexer": "ipython2",
   "version": "2.7.6"
  }
 },
 "nbformat": 4,
 "nbformat_minor": 5
}
