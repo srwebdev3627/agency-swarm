{
 "cells": [
  {
   "cell_type": "code",
   "execution_count": 1,
   "outputs": [
    {
     "name": "stdout",
     "output_type": "stream",
     "text": [
      "Requirement already satisfied: selenium in /Users/vrsen/Projects/agency swarm/agency-swarm/env/lib/python3.10/site-packages (4.16.0)\r\n",
      "Requirement already satisfied: webdriver-manager in /Users/vrsen/Projects/agency swarm/agency-swarm/env/lib/python3.10/site-packages (4.0.1)\r\n",
      "Requirement already satisfied: selenium_stealth in /Users/vrsen/Projects/agency swarm/agency-swarm/env/lib/python3.10/site-packages (1.0.6)\r\n",
      "Requirement already satisfied: gradio in /Users/vrsen/Projects/agency swarm/agency-swarm/env/lib/python3.10/site-packages (4.9.1)\r\n",
      "Requirement already satisfied: urllib3<3,>=1.26 in /Users/vrsen/Projects/agency swarm/agency-swarm/env/lib/python3.10/site-packages (from urllib3[socks]<3,>=1.26->selenium) (1.26.18)\r\n",
      "Requirement already satisfied: trio~=0.17 in /Users/vrsen/Projects/agency swarm/agency-swarm/env/lib/python3.10/site-packages (from selenium) (0.23.2)\r\n",
      "Requirement already satisfied: trio-websocket~=0.9 in /Users/vrsen/Projects/agency swarm/agency-swarm/env/lib/python3.10/site-packages (from selenium) (0.11.1)\r\n",
      "Requirement already satisfied: certifi>=2021.10.8 in /Users/vrsen/Projects/agency swarm/agency-swarm/env/lib/python3.10/site-packages (from selenium) (2023.11.17)\r\n",
      "Requirement already satisfied: requests in /Users/vrsen/Projects/agency swarm/agency-swarm/env/lib/python3.10/site-packages (from webdriver-manager) (2.31.0)\r\n",
      "Requirement already satisfied: python-dotenv in /Users/vrsen/Projects/agency swarm/agency-swarm/env/lib/python3.10/site-packages (from webdriver-manager) (1.0.0)\r\n",
      "Requirement already satisfied: packaging in /Users/vrsen/Projects/agency swarm/agency-swarm/env/lib/python3.10/site-packages (from webdriver-manager) (23.1)\r\n",
      "Requirement already satisfied: aiofiles<24.0,>=22.0 in /Users/vrsen/Projects/agency swarm/agency-swarm/env/lib/python3.10/site-packages (from gradio) (23.2.1)\r\n",
      "Requirement already satisfied: altair<6.0,>=4.2.0 in /Users/vrsen/Projects/agency swarm/agency-swarm/env/lib/python3.10/site-packages (from gradio) (5.2.0)\r\n",
      "Requirement already satisfied: fastapi in /Users/vrsen/Projects/agency swarm/agency-swarm/env/lib/python3.10/site-packages (from gradio) (0.105.0)\r\n",
      "Requirement already satisfied: ffmpy in /Users/vrsen/Projects/agency swarm/agency-swarm/env/lib/python3.10/site-packages (from gradio) (0.3.1)\r\n",
      "Requirement already satisfied: gradio-client==0.7.3 in /Users/vrsen/Projects/agency swarm/agency-swarm/env/lib/python3.10/site-packages (from gradio) (0.7.3)\r\n",
      "Requirement already satisfied: httpx in /Users/vrsen/Projects/agency swarm/agency-swarm/env/lib/python3.10/site-packages (from gradio) (0.25.2)\r\n",
      "Requirement already satisfied: huggingface-hub>=0.19.3 in /Users/vrsen/Projects/agency swarm/agency-swarm/env/lib/python3.10/site-packages (from gradio) (0.19.4)\r\n",
      "Requirement already satisfied: importlib-resources<7.0,>=1.3 in /Users/vrsen/Projects/agency swarm/agency-swarm/env/lib/python3.10/site-packages (from gradio) (6.1.1)\r\n",
      "Requirement already satisfied: jinja2<4.0 in /Users/vrsen/Projects/agency swarm/agency-swarm/env/lib/python3.10/site-packages (from gradio) (3.1.2)\r\n",
      "Requirement already satisfied: markupsafe~=2.0 in /Users/vrsen/Projects/agency swarm/agency-swarm/env/lib/python3.10/site-packages (from gradio) (2.1.1)\r\n",
      "Requirement already satisfied: matplotlib~=3.0 in /Users/vrsen/Projects/agency swarm/agency-swarm/env/lib/python3.10/site-packages (from gradio) (3.8.2)\r\n",
      "Requirement already satisfied: numpy~=1.0 in /Users/vrsen/Projects/agency swarm/agency-swarm/env/lib/python3.10/site-packages (from gradio) (1.26.2)\r\n",
      "Requirement already satisfied: orjson~=3.0 in /Users/vrsen/Projects/agency swarm/agency-swarm/env/lib/python3.10/site-packages (from gradio) (3.9.10)\r\n",
      "Requirement already satisfied: pandas<3.0,>=1.0 in /Users/vrsen/Projects/agency swarm/agency-swarm/env/lib/python3.10/site-packages (from gradio) (2.1.4)\r\n",
      "Requirement already satisfied: pillow<11.0,>=8.0 in /Users/vrsen/Projects/agency swarm/agency-swarm/env/lib/python3.10/site-packages (from gradio) (10.1.0)\r\n",
      "Requirement already satisfied: pydantic>=2.0 in /Users/vrsen/Projects/agency swarm/agency-swarm/env/lib/python3.10/site-packages (from gradio) (2.5.2)\r\n",
      "Requirement already satisfied: pydub in /Users/vrsen/Projects/agency swarm/agency-swarm/env/lib/python3.10/site-packages (from gradio) (0.25.1)\r\n",
      "Requirement already satisfied: python-multipart in /Users/vrsen/Projects/agency swarm/agency-swarm/env/lib/python3.10/site-packages (from gradio) (0.0.6)\r\n",
      "Requirement already satisfied: pyyaml<7.0,>=5.0 in /Users/vrsen/Projects/agency swarm/agency-swarm/env/lib/python3.10/site-packages (from gradio) (6.0.1)\r\n",
      "Requirement already satisfied: semantic-version~=2.0 in /Users/vrsen/Projects/agency swarm/agency-swarm/env/lib/python3.10/site-packages (from gradio) (2.10.0)\r\n",
      "Requirement already satisfied: tomlkit==0.12.0 in /Users/vrsen/Projects/agency swarm/agency-swarm/env/lib/python3.10/site-packages (from gradio) (0.12.0)\r\n",
      "Requirement already satisfied: typer<1.0,>=0.9 in /Users/vrsen/Projects/agency swarm/agency-swarm/env/lib/python3.10/site-packages (from typer[all]<1.0,>=0.9->gradio) (0.9.0)\r\n",
      "Requirement already satisfied: typing-extensions~=4.0 in /Users/vrsen/Projects/agency swarm/agency-swarm/env/lib/python3.10/site-packages (from gradio) (4.9.0)\r\n",
      "Requirement already satisfied: uvicorn>=0.14.0 in /Users/vrsen/Projects/agency swarm/agency-swarm/env/lib/python3.10/site-packages (from gradio) (0.24.0.post1)\r\n",
      "Requirement already satisfied: fsspec in /Users/vrsen/Projects/agency swarm/agency-swarm/env/lib/python3.10/site-packages (from gradio-client==0.7.3->gradio) (2023.12.2)\r\n",
      "Requirement already satisfied: websockets<12.0,>=10.0 in /Users/vrsen/Projects/agency swarm/agency-swarm/env/lib/python3.10/site-packages (from gradio-client==0.7.3->gradio) (11.0.3)\r\n",
      "Requirement already satisfied: jsonschema>=3.0 in /Users/vrsen/Projects/agency swarm/agency-swarm/env/lib/python3.10/site-packages (from altair<6.0,>=4.2.0->gradio) (4.19.2)\r\n",
      "Requirement already satisfied: toolz in /Users/vrsen/Projects/agency swarm/agency-swarm/env/lib/python3.10/site-packages (from altair<6.0,>=4.2.0->gradio) (0.12.0)\r\n",
      "Requirement already satisfied: filelock in /Users/vrsen/Projects/agency swarm/agency-swarm/env/lib/python3.10/site-packages (from huggingface-hub>=0.19.3->gradio) (3.13.1)\r\n",
      "Requirement already satisfied: tqdm>=4.42.1 in /Users/vrsen/Projects/agency swarm/agency-swarm/env/lib/python3.10/site-packages (from huggingface-hub>=0.19.3->gradio) (4.66.1)\r\n",
      "Requirement already satisfied: contourpy>=1.0.1 in /Users/vrsen/Projects/agency swarm/agency-swarm/env/lib/python3.10/site-packages (from matplotlib~=3.0->gradio) (1.2.0)\r\n",
      "Requirement already satisfied: cycler>=0.10 in /Users/vrsen/Projects/agency swarm/agency-swarm/env/lib/python3.10/site-packages (from matplotlib~=3.0->gradio) (0.12.1)\r\n",
      "Requirement already satisfied: fonttools>=4.22.0 in /Users/vrsen/Projects/agency swarm/agency-swarm/env/lib/python3.10/site-packages (from matplotlib~=3.0->gradio) (4.46.0)\r\n",
      "Requirement already satisfied: kiwisolver>=1.3.1 in /Users/vrsen/Projects/agency swarm/agency-swarm/env/lib/python3.10/site-packages (from matplotlib~=3.0->gradio) (1.4.5)\r\n",
      "Requirement already satisfied: pyparsing>=2.3.1 in /Users/vrsen/Projects/agency swarm/agency-swarm/env/lib/python3.10/site-packages (from matplotlib~=3.0->gradio) (3.1.1)\r\n",
      "Requirement already satisfied: python-dateutil>=2.7 in /Users/vrsen/Projects/agency swarm/agency-swarm/env/lib/python3.10/site-packages (from matplotlib~=3.0->gradio) (2.8.2)\r\n",
      "Requirement already satisfied: pytz>=2020.1 in /Users/vrsen/Projects/agency swarm/agency-swarm/env/lib/python3.10/site-packages (from pandas<3.0,>=1.0->gradio) (2023.3.post1)\r\n",
      "Requirement already satisfied: tzdata>=2022.1 in /Users/vrsen/Projects/agency swarm/agency-swarm/env/lib/python3.10/site-packages (from pandas<3.0,>=1.0->gradio) (2023.3)\r\n",
      "Requirement already satisfied: annotated-types>=0.4.0 in /Users/vrsen/Projects/agency swarm/agency-swarm/env/lib/python3.10/site-packages (from pydantic>=2.0->gradio) (0.6.0)\r\n",
      "Requirement already satisfied: pydantic-core==2.14.5 in /Users/vrsen/Projects/agency swarm/agency-swarm/env/lib/python3.10/site-packages (from pydantic>=2.0->gradio) (2.14.5)\r\n",
      "Requirement already satisfied: attrs>=20.1.0 in /Users/vrsen/Projects/agency swarm/agency-swarm/env/lib/python3.10/site-packages (from trio~=0.17->selenium) (23.1.0)\r\n",
      "Requirement already satisfied: sortedcontainers in /Users/vrsen/Projects/agency swarm/agency-swarm/env/lib/python3.10/site-packages (from trio~=0.17->selenium) (2.4.0)\r\n",
      "Requirement already satisfied: idna in /Users/vrsen/Projects/agency swarm/agency-swarm/env/lib/python3.10/site-packages (from trio~=0.17->selenium) (3.4)\r\n",
      "Requirement already satisfied: outcome in /Users/vrsen/Projects/agency swarm/agency-swarm/env/lib/python3.10/site-packages (from trio~=0.17->selenium) (1.3.0.post0)\r\n",
      "Requirement already satisfied: sniffio>=1.3.0 in /Users/vrsen/Projects/agency swarm/agency-swarm/env/lib/python3.10/site-packages (from trio~=0.17->selenium) (1.3.0)\r\n",
      "Requirement already satisfied: exceptiongroup in /Users/vrsen/Projects/agency swarm/agency-swarm/env/lib/python3.10/site-packages (from trio~=0.17->selenium) (1.0.4)\r\n",
      "Requirement already satisfied: wsproto>=0.14 in /Users/vrsen/Projects/agency swarm/agency-swarm/env/lib/python3.10/site-packages (from trio-websocket~=0.9->selenium) (1.2.0)\r\n",
      "Requirement already satisfied: click<9.0.0,>=7.1.1 in /Users/vrsen/Projects/agency swarm/agency-swarm/env/lib/python3.10/site-packages (from typer<1.0,>=0.9->typer[all]<1.0,>=0.9->gradio) (8.1.7)\r\n",
      "Requirement already satisfied: colorama<0.5.0,>=0.4.3 in /Users/vrsen/Projects/agency swarm/agency-swarm/env/lib/python3.10/site-packages (from typer[all]<1.0,>=0.9->gradio) (0.4.6)\r\n",
      "Requirement already satisfied: shellingham<2.0.0,>=1.3.0 in /Users/vrsen/Projects/agency swarm/agency-swarm/env/lib/python3.10/site-packages (from typer[all]<1.0,>=0.9->gradio) (1.5.4)\r\n",
      "Requirement already satisfied: rich<14.0.0,>=10.11.0 in /Users/vrsen/Projects/agency swarm/agency-swarm/env/lib/python3.10/site-packages (from typer[all]<1.0,>=0.9->gradio) (13.7.0)\r\n",
      "Requirement already satisfied: PySocks!=1.5.7,<2.0,>=1.5.6 in /Users/vrsen/Projects/agency swarm/agency-swarm/env/lib/python3.10/site-packages (from urllib3[socks]<3,>=1.26->selenium) (1.7.1)\r\n",
      "Requirement already satisfied: h11>=0.8 in /Users/vrsen/Projects/agency swarm/agency-swarm/env/lib/python3.10/site-packages (from uvicorn>=0.14.0->gradio) (0.14.0)\r\n",
      "Requirement already satisfied: anyio<4.0.0,>=3.7.1 in /Users/vrsen/Projects/agency swarm/agency-swarm/env/lib/python3.10/site-packages (from fastapi->gradio) (3.7.1)\r\n",
      "Requirement already satisfied: starlette<0.28.0,>=0.27.0 in /Users/vrsen/Projects/agency swarm/agency-swarm/env/lib/python3.10/site-packages (from fastapi->gradio) (0.27.0)\r\n",
      "Requirement already satisfied: httpcore==1.* in /Users/vrsen/Projects/agency swarm/agency-swarm/env/lib/python3.10/site-packages (from httpx->gradio) (1.0.2)\r\n",
      "Requirement already satisfied: charset-normalizer<4,>=2 in /Users/vrsen/Projects/agency swarm/agency-swarm/env/lib/python3.10/site-packages (from requests->webdriver-manager) (2.0.4)\r\n",
      "Requirement already satisfied: jsonschema-specifications>=2023.03.6 in /Users/vrsen/Projects/agency swarm/agency-swarm/env/lib/python3.10/site-packages (from jsonschema>=3.0->altair<6.0,>=4.2.0->gradio) (2023.7.1)\r\n",
      "Requirement already satisfied: referencing>=0.28.4 in /Users/vrsen/Projects/agency swarm/agency-swarm/env/lib/python3.10/site-packages (from jsonschema>=3.0->altair<6.0,>=4.2.0->gradio) (0.30.2)\r\n",
      "Requirement already satisfied: rpds-py>=0.7.1 in /Users/vrsen/Projects/agency swarm/agency-swarm/env/lib/python3.10/site-packages (from jsonschema>=3.0->altair<6.0,>=4.2.0->gradio) (0.10.6)\r\n",
      "Requirement already satisfied: six>=1.5 in /Users/vrsen/Projects/agency swarm/agency-swarm/env/lib/python3.10/site-packages (from python-dateutil>=2.7->matplotlib~=3.0->gradio) (1.16.0)\r\n",
      "Requirement already satisfied: markdown-it-py>=2.2.0 in /Users/vrsen/Projects/agency swarm/agency-swarm/env/lib/python3.10/site-packages (from rich<14.0.0,>=10.11.0->typer[all]<1.0,>=0.9->gradio) (3.0.0)\r\n",
      "Requirement already satisfied: pygments<3.0.0,>=2.13.0 in /Users/vrsen/Projects/agency swarm/agency-swarm/env/lib/python3.10/site-packages (from rich<14.0.0,>=10.11.0->typer[all]<1.0,>=0.9->gradio) (2.15.1)\r\n",
      "Requirement already satisfied: mdurl~=0.1 in /Users/vrsen/Projects/agency swarm/agency-swarm/env/lib/python3.10/site-packages (from markdown-it-py>=2.2.0->rich<14.0.0,>=10.11.0->typer[all]<1.0,>=0.9->gradio) (0.1.2)\r\n"
     ]
    }
   ],
   "source": [
    "!pip install selenium webdriver-manager selenium_stealth gradio"
   ],
   "metadata": {
    "collapsed": false,
    "ExecuteTime": {
     "end_time": "2023-12-25T04:43:43.031923Z",
     "start_time": "2023-12-25T04:43:41.615406Z"
    }
   },
   "id": "4e14ef4c098022de"
  },
  {
   "cell_type": "markdown",
   "source": [
    "# Example From The Video\n",
    "Testing [oai-widget.com](https://oai-widget.com)"
   ],
   "metadata": {
    "collapsed": false
   },
   "id": "65f4e3db8ade99e9"
  },
  {
   "cell_type": "code",
   "outputs": [
    {
     "name": "stdout",
     "output_type": "stream",
     "text": [
      "The autoreload extension is already loaded. To reload it, use:\n",
      "  %reload_ext autoreload\n"
     ]
    }
   ],
   "source": [
    "import sys\n",
    "sys.path.append('../agency_swarm') \n",
    "\n",
    "%load_ext autoreload\n",
    "\n",
    "%autoreload 2"
   ],
   "metadata": {
    "collapsed": true,
    "ExecuteTime": {
     "end_time": "2023-12-25T04:43:48.803456Z",
     "start_time": "2023-12-25T04:43:48.006456Z"
    }
   },
   "id": "initial_id",
   "execution_count": 16
  },
  {
   "cell_type": "code",
   "execution_count": 17,
   "outputs": [],
   "source": [
    "from agency_swarm.agents.browsing import BrowsingAgent\n",
    "from agency_swarm import Agency, Agent"
   ],
   "metadata": {
    "collapsed": false,
    "ExecuteTime": {
     "end_time": "2023-12-25T04:43:48.814911Z",
     "start_time": "2023-12-25T04:43:48.801421Z"
    }
   },
   "id": "45a0d3b52118f8cc"
  },
  {
   "cell_type": "code",
   "execution_count": 18,
   "outputs": [],
   "source": [
    "browsing_agent = BrowsingAgent()"
   ],
   "metadata": {
    "collapsed": false,
    "ExecuteTime": {
     "end_time": "2023-12-25T04:43:48.844322Z",
     "start_time": "2023-12-25T04:43:48.815255Z"
    }
   },
   "id": "6e83f218845b2060"
  },
  {
   "cell_type": "code",
   "execution_count": 19,
   "outputs": [],
   "source": [
    "qa_manager = Agent(name=\"QA Manager\",\n",
    "            description=\"The QA Manager Agent is an advanced digital entity designed to oversee and enhance the quality of processes for our SaaS product.\",\n",
    "            instructions=\"As a Quality Assurance (QA) Manager, your role involves direct interaction and oversight of the BrowsingAgent's operations. Your primary duty is to guarantee that the user's task is comprehensively and accurately completed. Achieve this by methodically issuing each step of the task as a distinct message to the BrowsingAgent. It's crucial to confirm the successful execution of one step before advancing to the next. This procedure forms part of an integration test, which will be conducted in a live production environment. Importantly, ensure to provide the BrowsingAgent with the actual credentials related to the task, enabling authentic testing scenarios.\")"
   ],
   "metadata": {
    "collapsed": false,
    "ExecuteTime": {
     "end_time": "2023-12-25T04:43:48.845145Z",
     "start_time": "2023-12-25T04:43:48.828626Z"
    }
   },
   "id": "dc3c752d72ed8939"
  },
  {
   "cell_type": "code",
   "execution_count": 20,
   "outputs": [
    {
     "name": "stdout",
     "output_type": "stream",
     "text": [
      "Updating assistant... BrowsingAgent\n"
     ]
    }
   ],
   "source": [
    "agency = Agency([qa_manager,\n",
    "                 [qa_manager, browsing_agent]])"
   ],
   "metadata": {
    "collapsed": false,
    "ExecuteTime": {
     "end_time": "2023-12-25T04:43:49.949199Z",
     "start_time": "2023-12-25T04:43:49.173052Z"
    }
   },
   "id": "fef41ee496b4890d"
  },
  {
   "cell_type": "code",
   "execution_count": 21,
   "outputs": [
    {
     "name": "stdout",
     "output_type": "stream",
     "text": [
      "Running on local URL:  http://127.0.0.1:7861\n",
      "\n",
      "To create a public link, set `share=True` in `launch()`.\n"
     ]
    },
    {
     "data": {
      "text/plain": "<IPython.core.display.HTML object>",
      "text/html": "<div><iframe src=\"http://127.0.0.1:7861/\" width=\"100%\" height=\"500\" allow=\"autoplay; camera; microphone; clipboard-read; clipboard-write;\" frameborder=\"0\" allowfullscreen></iframe></div>"
     },
     "metadata": {},
     "output_type": "display_data"
    }
   ],
   "source": [
    "demo = agency.demo_gradio(height=700) # reload the notebook each time you run this cell"
   ],
   "metadata": {
    "collapsed": false,
    "ExecuteTime": {
     "end_time": "2023-12-25T04:43:50.050266Z",
     "start_time": "2023-12-25T04:43:49.949637Z"
    }
   },
   "id": "d0586b684514e713"
  },
  {
   "cell_type": "markdown",
   "source": [
    "Here are the instructions for this quality assurance testing task:\n",
    "1. Login to the website https://www.oai-widget.com/ using credentials 'test' and 'test'\n",
    "2. Create a new widget\n",
    "3. Expend OpenAI section.\n",
    "4. Enter 'test' key in Api Keys input field.\n",
    "5. Enter 'Test Assistant' in Assistant input field.\n",
    "6. Save changes on this widget\n",
    "7. Send test message to the widget saying \"hello\"\n",
    "8. Ensure that response is received.\n",
    "\n",
    "If there are any issues along the way, please try to troubleshoot them yourself with the browsing agent first, before reporting back to me."
   ],
   "metadata": {
    "collapsed": false
   },
   "id": "4f3101f44f624b43"
  },
  {
   "cell_type": "code",
   "outputs": [
    {
     "name": "stdout",
     "output_type": "stream",
     "text": [
      "Closing server running on port: 7860\n"
     ]
    }
   ],
   "source": [
    "demo.close()"
   ],
   "metadata": {
    "collapsed": false,
    "ExecuteTime": {
     "end_time": "2023-12-25T04:43:46.003961Z",
     "start_time": "2023-12-25T04:43:45.820757Z"
    }
   },
   "id": "6decc2caf79dc22d",
   "execution_count": 8
  },
  {
   "cell_type": "markdown",
   "source": [
    "# Creating Your Own Browsing Swarm"
   ],
   "metadata": {
    "collapsed": false
   },
   "id": "ef8e806cc7c257a2"
  },
  {
   "cell_type": "markdown",
   "source": [],
   "metadata": {
    "collapsed": false
   },
   "id": "4867d3eb93c38cce"
  },
  {
   "cell_type": "code",
   "outputs": [
    {
     "name": "stdout",
     "output_type": "stream",
     "text": [
      "The autoreload extension is already loaded. To reload it, use:\n",
      "  %reload_ext autoreload\n"
     ]
    }
   ],
   "source": [
    "import sys\n",
    "sys.path.append('../agency_swarm') \n",
    "\n",
    "%load_ext autoreload\n",
    "\n",
    "%autoreload 2"
   ],
   "metadata": {
    "collapsed": false,
    "ExecuteTime": {
     "end_time": "2023-12-25T04:43:46.019346Z",
     "start_time": "2023-12-25T04:43:45.996371Z"
    }
   },
   "id": "10a116e29529fb08",
   "execution_count": 9
  },
  {
   "cell_type": "code",
   "outputs": [],
   "source": [
    "from agency_swarm.agents.browsing import BrowsingAgent\n",
    "from agency_swarm import Agency, Agent"
   ],
   "metadata": {
    "collapsed": false,
    "ExecuteTime": {
     "end_time": "2023-12-25T04:43:46.035532Z",
     "start_time": "2023-12-25T04:43:46.013675Z"
    }
   },
   "id": "a6eca041305cce5a",
   "execution_count": 10
  },
  {
   "cell_type": "code",
   "outputs": [],
   "source": [
    "report_manager = Agent(name=\"Report Manager\",\n",
    "            description=\"The Report Manager Agent is responsible for supervising data collection from various weather websites and compiling reports as necessary.\",\n",
    "            instructions=\"As a Report Manager Agent, your role involves direct interaction and oversight of the BrowsingAgent's operations. Your primary duty is to guarantee that the user's task is comprehensively and accurately completed. Achieve this by methodically breaking down each task from the user into smaller steps required to complete it. Then, issue each step of the task as a distinct message to the BrowsingAgent. Make sure to always tell the browsing agent to go back to google search results before proceeding to the the next source. After the necessary data is collection, compile a report and send it to the user. Make sure to ask the browsing agent for direct links to the sources and include them into report. Try to trouble shoot any issues that may arise along the way with the other agents first, before reporting back to the user. Do not respond to the user until the report is complete or you have encountered an issue that you cannot resolve yourself.\")"
   ],
   "metadata": {
    "collapsed": false,
    "ExecuteTime": {
     "end_time": "2023-12-25T04:43:46.046653Z",
     "start_time": "2023-12-25T04:43:46.029377Z"
    }
   },
   "id": "55d911e7d32a509c",
   "execution_count": 11
  },
  {
   "cell_type": "code",
   "outputs": [],
   "source": [
    "browsing_agent = BrowsingAgent()\n",
    "browsing_agent.instructions += \" You can use the following credentials to login to linked in if needed Email:  Password: \" # insert credentials here"
   ],
   "metadata": {
    "collapsed": false,
    "ExecuteTime": {
     "end_time": "2023-12-25T04:43:46.061572Z",
     "start_time": "2023-12-25T04:43:46.043139Z"
    }
   },
   "id": "2215c629454380d1",
   "execution_count": 12
  },
  {
   "cell_type": "code",
   "outputs": [
    {
     "name": "stdout",
     "output_type": "stream",
     "text": [
      "Updating assistant... BrowsingAgent\n"
     ]
    }
   ],
   "source": [
    "agency = Agency([report_manager,\n",
    "                 [report_manager, browsing_agent]],\n",
    "                shared_instructions=\"You are a part of a data collection agency with the goal to find the most relevant information about people on the web. Your core value is autonomy and you are free to use any means necessary to achieve your goal. You do not stop until you have found the information you need or you have exhausted all possible means. You always to to compile a comprehensive report with as much information from the web pages as possible.\")"
   ],
   "metadata": {
    "collapsed": false,
    "ExecuteTime": {
     "end_time": "2023-12-25T04:43:46.965135Z",
     "start_time": "2023-12-25T04:43:46.056703Z"
    }
   },
   "id": "6fcafb1fdf523943",
   "execution_count": 13
  },
  {
   "cell_type": "markdown",
   "source": [
    "Reload the notebook each time you run the cell below"
   ],
   "metadata": {
    "collapsed": false
   },
   "id": "f735bed0fe50e590"
  },
  {
   "cell_type": "code",
   "outputs": [
    {
     "name": "stdout",
     "output_type": "stream",
     "text": [
      "Running on local URL:  http://127.0.0.1:7860\n",
      "\n",
      "To create a public link, set `share=True` in `launch()`.\n"
     ]
    },
    {
     "data": {
      "text/plain": "<IPython.core.display.HTML object>",
      "text/html": "<div><iframe src=\"http://127.0.0.1:7860/\" width=\"100%\" height=\"500\" allow=\"autoplay; camera; microphone; clipboard-read; clipboard-write;\" frameborder=\"0\" allowfullscreen></iframe></div>"
     },
     "metadata": {},
     "output_type": "display_data"
    },
    {
     "data": {
      "text/plain": "Gradio Blocks instance: 2 backend functions\n-------------------------------------------\nfn_index=0\n inputs:\n |-textbox\n |-chatbot\n outputs:\n |-textbox\n |-chatbot\nfn_index=1\n inputs:\n |-chatbot\n outputs:\n |-chatbot"
     },
     "execution_count": 14,
     "metadata": {},
     "output_type": "execute_result"
    }
   ],
   "source": [
    "agency.demo_gradio(height=700)"
   ],
   "metadata": {
    "collapsed": false,
    "ExecuteTime": {
     "end_time": "2023-12-25T04:43:47.072481Z",
     "start_time": "2023-12-25T04:43:46.965472Z"
    }
   },
   "id": "6e622ad186d4fef8",
   "execution_count": 14
  },
  {
   "cell_type": "markdown",
   "source": [
    "Compile a report on Arsenii Shatokhin from the top 3 sources on google"
   ],
   "metadata": {
    "collapsed": false
   },
   "id": "83024788dfcf7031"
  },
  {
   "cell_type": "code",
   "outputs": [
    {
     "name": "stdout",
     "output_type": "stream",
     "text": [
      "Closing server running on port: 7860\n"
     ]
    }
   ],
   "source": [
    "demo.close()"
   ],
   "metadata": {
    "collapsed": false,
    "ExecuteTime": {
     "end_time": "2023-12-25T04:43:47.082221Z",
     "start_time": "2023-12-25T04:43:47.066021Z"
    }
   },
   "id": "25ce5ab2798e019b",
   "execution_count": 15
  }
 ],
 "metadata": {
  "kernelspec": {
   "display_name": "Python 3",
   "language": "python",
   "name": "python3"
  },
  "language_info": {
   "codemirror_mode": {
    "name": "ipython",
    "version": 2
   },
   "file_extension": ".py",
   "mimetype": "text/x-python",
   "name": "python",
   "nbconvert_exporter": "python",
   "pygments_lexer": "ipython2",
   "version": "2.7.6"
  }
 },
 "nbformat": 4,
 "nbformat_minor": 5
}
